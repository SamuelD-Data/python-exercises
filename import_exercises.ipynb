{
 "cells": [
  {
   "cell_type": "code",
   "execution_count": 35,
   "metadata": {},
   "outputs": [
    {
     "name": "stdout",
     "output_type": "stream",
     "text": [
      "argument passed is 2, thats 2 cool!\n",
      "a is a vowel\n",
      "v is a consonant\n",
      "Cat\n",
      "a is a vowel\n"
     ]
    },
    {
     "data": {
      "text/plain": [
       "True"
      ]
     },
     "execution_count": 35,
     "metadata": {},
     "output_type": "execute_result"
    }
   ],
   "source": [
    "# import the module and refer to the function with the . syntax\n",
    "\n",
    "# import function_exercises\n",
    "import function_exercises        \n",
    "\n",
    "# import is_vowel to determine if string is a vowel\n",
    "function_exercises.is_vowel('a') \n"
   ]
  },
  {
   "cell_type": "code",
   "execution_count": 36,
   "metadata": {},
   "outputs": [
    {
     "data": {
      "text/plain": [
       "3000.0"
      ]
     },
     "execution_count": 36,
     "metadata": {},
     "output_type": "execute_result"
    }
   ],
   "source": [
    "# use from to import the function directly\n",
    "\n",
    "# using from to import handle_commas with no alias\n",
    "from function_exercises import handle_commas \n",
    "\n",
    "# using handle_commas to remove comma from string\n",
    "handle_commas('3,000')                        "
   ]
  },
  {
   "cell_type": "code",
   "execution_count": 37,
   "metadata": {},
   "outputs": [
    {
     "name": "stdout",
     "output_type": "stream",
     "text": [
      "Bird\n"
     ]
    },
    {
     "data": {
      "text/plain": [
       "'Bird'"
      ]
     },
     "execution_count": 37,
     "metadata": {},
     "output_type": "execute_result"
    }
   ],
   "source": [
    "# use from and give the function a different name\n",
    "\n",
    "# using from to import capital_consonant with alias 'capcon'\n",
    "from function_exercises import capital_consonant as capcon \n",
    "\n",
    "# using capcon function to capitalize argument if it starts with a consonant\n",
    "capcon('bird')                                             "
   ]
  },
  {
   "cell_type": "code",
   "execution_count": 38,
   "metadata": {},
   "outputs": [
    {
     "name": "stdout",
     "output_type": "stream",
     "text": [
      "as shown below there are 9 different combinations that can be made using ABC and 123\n",
      "\n",
      "[('a', '1'), ('a', '2'), ('a', '3'), ('b', '1'), ('b', '2'), ('b', '3'), ('c', '1'), ('c', '2'), ('c', '3')]\n"
     ]
    }
   ],
   "source": [
    "# How many different ways can you combine the letters from \"abc\" with the numbers 1, 2, and 3?\n",
    "\n",
    "from itertools import product # import product from itertools \n",
    "\n",
    "# make a list using itertools product to find all combinations and assign to a variable\n",
    "combo_list = list(product('abc', '123'))    \n",
    "# count number of combinations in list and assign to variable\n",
    "combo_count = len(list(product('abc', '123'))) \n",
    "\n",
    "# print findings\n",
    "print(f'as shown below there are {combo_count} different combinations that can be made using ABC and 123\\n') \n",
    "print(combo_list)"
   ]
  },
  {
   "cell_type": "code",
   "execution_count": 39,
   "metadata": {},
   "outputs": [
    {
     "name": "stdout",
     "output_type": "stream",
     "text": [
      "we can create 6 combinations of letters using abcd\n",
      "\n",
      "[('a', 'b'), ('a', 'c'), ('a', 'd'), ('b', 'c'), ('b', 'd'), ('c', 'd')]\n"
     ]
    }
   ],
   "source": [
    "# How many different ways can you combine two of the letters from \"abcd\"?\n",
    "\n",
    "# import itertools\n",
    "from itertools import combinations \n",
    "\n",
    "# calc number of possible combinations using len on list of combinations and store as variable \n",
    "combo_count = len(list(combinations('abcd', 2)))\n",
    "\n",
    "# calc all combinations using itertools combinations\n",
    "combinations = list(combinations('abcd', 2))\n",
    "\n",
    "# combinations creates combinations and will not make combinations if a group of values has been used already, even if they change positions\n",
    "print(f\"we can create {combo_count} combinations of letters using abcd\\n\")\n",
    "print(combinations)"
   ]
  },
  {
   "cell_type": "code",
   "execution_count": 40,
   "metadata": {},
   "outputs": [],
   "source": [
    "# JSON EXERCISES\n",
    "\n",
    "# importing json\n",
    "import json\n",
    "\n",
    "# open json file - assigned to a variable\n",
    "f = open('profiles.json') \n",
    "\n",
    "# read json document from file - stored as variable\n",
    "data = json.load(f) "
   ]
  },
  {
   "cell_type": "code",
   "execution_count": 41,
   "metadata": {},
   "outputs": [
    {
     "name": "stdout",
     "output_type": "stream",
     "text": [
      "The total number of users is 19\n"
     ]
    }
   ],
   "source": [
    "# Total number of users\n",
    "\n",
    "# counting number of id values in dictionaries\n",
    "idcount = len([i['_id'] for i in data]) \n",
    "\n",
    "# print our results\n",
    "print(f'The total number of users is {idcount}') "
   ]
  },
  {
   "cell_type": "code",
   "execution_count": 42,
   "metadata": {},
   "outputs": [
    {
     "name": "stdout",
     "output_type": "stream",
     "text": [
      "The total number of active users is 9\n"
     ]
    }
   ],
   "source": [
    "# Number of active users\n",
    "\n",
    "# counting number of users with isActive status set to True\n",
    "active = len([i['_id'] for i in data if i['isActive'] == True]) \n",
    "\n",
    "# print our results\n",
    "print(f'The total number of active users is {active}') "
   ]
  },
  {
   "cell_type": "code",
   "execution_count": 43,
   "metadata": {},
   "outputs": [
    {
     "name": "stdout",
     "output_type": "stream",
     "text": [
      "The total number of inactive users is 10\n"
     ]
    }
   ],
   "source": [
    "# Number of inactive users\n",
    "\n",
    "# counting number of users with isActive status set to False\n",
    "inactive = len([i['_id'] for i in data if i['isActive'] == False]) \n",
    "\n",
    "# print our results\n",
    "print(f'The total number of inactive users is {inactive}') "
   ]
  },
  {
   "cell_type": "code",
   "execution_count": 44,
   "metadata": {},
   "outputs": [
    {
     "name": "stdout",
     "output_type": "stream",
     "text": [
      "The grand total of all balances of all user is 52667.02\n"
     ]
    }
   ],
   "source": [
    "# Grand total of balances for all users\n",
    "\n",
    "# Create a variable with value 0\n",
    "running_total = 0    \n",
    "\n",
    "# iterate through dictionaries to keep a running total of every balance\n",
    "# the code that to the right of running total removes the '$' and \",\" from each balance and then converts it to a float\n",
    "for x in data:       \n",
    "    running_total += float(x['balance'].replace(\",\", '').replace(\"$\", \"\")) \n",
    "\n",
    "# print our results while rounding the total for readability\n",
    "print(f'The grand total of all balances of all user is {round(running_total, 2)}')  "
   ]
  },
  {
   "cell_type": "code",
   "execution_count": 45,
   "metadata": {},
   "outputs": [
    {
     "name": "stdout",
     "output_type": "stream",
     "text": [
      "If we divide the sum of all accounts by the number of users, we find the overall average balance to be 2771.95\n"
     ]
    }
   ],
   "source": [
    "# Average balance per user\n",
    "\n",
    "# stores the number of total accounts\n",
    "accounts = len([x['_id'] for x in data])    \n",
    "\n",
    "# set a variable to 0 that will be used to track the total amount of in all acounts\n",
    "running_total = 0\n",
    "\n",
    "# Average balance per user via sum of all accounts divided by total number of accounts\n",
    "# we sum the balance of all acounts after removing '$' and ',' and converting to float\n",
    "for x in data: \n",
    "    running_total += float(x['balance'].replace(\",\", '').replace(\"$\", \"\"))\n",
    "\n",
    "# divide the total balance by the total number of accounts, round to 2 decimals to get the overall average\n",
    "total_average = round(running_total / accounts, 2)\n",
    "    \n",
    "# print our results\n",
    "print(f'If we divide the sum of all accounts by the number of users, we find the overall average balance to be {total_average}')\n"
   ]
  },
  {
   "cell_type": "code",
   "execution_count": 46,
   "metadata": {},
   "outputs": [
    {
     "name": "stdout",
     "output_type": "stream",
     "text": [
      "The lowest balance is $1,214.10, which belongs to Avery Flynn\n"
     ]
    }
   ],
   "source": [
    "# User with the lowest balance\n",
    "\n",
    "#assign a variable equal to the lowest balance of all users via list iteration and the min method\n",
    "lowestbalance = min([x['balance'] for x in data]) \n",
    "\n",
    "# assign a variable with the name of the person with the lowest balance found via list iteration\n",
    "lowbalname = [x['name'] for x in data if x['balance'] == min([x['balance'] for x in data])] \n",
    "\n",
    "# print our findings. to avoid the name appearing as list we can specify its place in the range so that the value appears with brackets\n",
    "print(f\"The lowest balance is {lowestbalance}, which belongs to {lowbalname[0]}\") \n"
   ]
  },
  {
   "cell_type": "code",
   "execution_count": 47,
   "metadata": {},
   "outputs": [
    {
     "name": "stdout",
     "output_type": "stream",
     "text": [
      "The highest balance is $3,919.64, which belongs to Fay Hammond\n"
     ]
    }
   ],
   "source": [
    "# User with the highest balance\n",
    "\n",
    "# assign a variable equal to the highest balance of all users via list iteration and the min method\n",
    "highestbalance = max([x['balance'] for x in data]) \n",
    "\n",
    "# assign a variable with the name of the person with the highest balance found via list iteration\n",
    "highbalname = [x['name'] for x in data if x['balance'] == max([x['balance'] for x in data])] \n",
    "\n",
    "# print our findings. to avoid the name appearing as list we can specify its place in the range so that the value appears with brackets\n",
    "print(f\"The highest balance is {highestbalance}, which belongs to {highbalname[0]}\")"
   ]
  },
  {
   "cell_type": "code",
   "execution_count": 48,
   "metadata": {},
   "outputs": [
    {
     "name": "stdout",
     "output_type": "stream",
     "text": [
      "strawberry is the most popular fruit among users with 9 preferring it\n"
     ]
    }
   ],
   "source": [
    "# Most common favorite fruit\n",
    "\n",
    "# assign 3 variables to 0. these will be used to keep count of our fruits\n",
    "s = 0       \n",
    "b = 0\n",
    "a = 0\n",
    "\n",
    "# iterate through the data and each time a fruit is declared a favorite we add 1 to its counter\n",
    "for x in data:\n",
    "    if x['favoriteFruit'] == 'strawberry':  \n",
    "        s += 1\n",
    "    if x['favoriteFruit'] == 'banana':\n",
    "        b += 1\n",
    "    if x['favoriteFruit'] == 'apple':\n",
    "        a += 1\n",
    "\n",
    "# create a list of dictionaries. each dictionary stores the names of the fruits and their respective counts\n",
    "fruits = [{'fruit' : 'strawberry', 'count' : s}, {'fruit' : 'banana', 'count' : b}, {'fruit' : 'apple', 'count' : a}]   \n",
    "\n",
    "# assign a variable equal to the highest count from our list of dictionaries, fruits\n",
    "maxfruit = max([x['count'] for x in fruits])  \n",
    "\n",
    "# create an variable that will keep track of how many fruits are considered the most popular in order to check for ties\n",
    "popfruit = 0\n",
    "\n",
    "# iterate through our new dictionary \n",
    "# check if the count of a fruit matches the max count in our variable ie. most popular\n",
    "# for each that is tied for most popular (if there is a tie) add 1 to popfruit\n",
    "for x in fruits:                \n",
    "    if x['count'] == maxfruit:  \n",
    "        popfruit += 1           \n",
    "\n",
    "# iterate through dictionary again, if there is a tie for most popular fruit, print a statement for each declaring a tie\n",
    "# otherwise declare the single fruit as the most popular\n",
    "for x in fruits:\n",
    "    if x['count'] == maxfruit and popfruit == 1:\n",
    "        print(f\"{x['fruit']} is the most popular fruit among users with {x['count']} preferring it\") # we print a statement declaring a fruit as the most popular if popfruit tells us there is only one winner\n",
    "    if x['count'] == maxfruit and popfruit > 1:\n",
    "         print(f\"{x['fruit']} is tied for the most popular fruit among users with {x['count']} preferring it\") # we print a statement for each fruit that is tied for most popular with altered text to reflect the tie"
   ]
  },
  {
   "cell_type": "code",
   "execution_count": 49,
   "metadata": {},
   "outputs": [
    {
     "name": "stdout",
     "output_type": "stream",
     "text": [
      "apple is the least popular fruit among users with 4 preferring it\n"
     ]
    }
   ],
   "source": [
    "# Least common fruit\n",
    "\n",
    "# assign 3 variables to 0. these will be used to keep count of our fruits\n",
    "s = 0        \n",
    "b = 0\n",
    "a = 0\n",
    "\n",
    "# iterate through the data and each time a fruit is declared a favorite we add 1 to its counter\n",
    "for x in data:\n",
    "    if x['favoriteFruit'] == 'strawberry':  \n",
    "        s += 1\n",
    "    if x['favoriteFruit'] == 'banana':\n",
    "        b += 1\n",
    "    if x['favoriteFruit'] == 'apple':\n",
    "        a += 1\n",
    "\n",
    "# create a list of dictionaries. each dictionary stores the names of the fruits and their respective counts\n",
    "fruits = [{'fruit' : 'strawberry', 'count' : s}, {'fruit' : 'banana', 'count' : b}, {'fruit' : 'apple', 'count' : a}]   \n",
    "\n",
    "# assign a variable equal to the lowest count from our list of dictionaries, fruits\n",
    "minfruit = min([x['count'] for x in fruits])  \n",
    "\n",
    "# create an variable that will keep track of how many fruits are considered the least popular in order to check for ties\n",
    "unpopfruit = 0\n",
    "\n",
    "# iterate through our new dictionary \n",
    "# check if the count of a fruit matches the min count in our variable ie. least popular\n",
    "# for each that is tied for least popular (if there is a tie) add 1 to popfruit\n",
    "for x in fruits:                \n",
    "    if x['count'] == minfruit:  \n",
    "        unpopfruit += 1          \n",
    "\n",
    "# iterate through dictionary again, if there is a tie for least popular fruit, print a statement for each declaring a tie\n",
    "# otherwise declare the single fruit as the least popular\n",
    "for x in fruits:\n",
    "    if x['count'] == minfruit and unpopfruit == 1:\n",
    "        print(f\"{x['fruit']} is the least popular fruit among users with {x['count']} preferring it\") # we print a statement declaring a fruit as the least popular if unpopfruit tells us there is only one winner\n",
    "    if x['count'] == minfruit and unpopfruit > 1:\n",
    "         print(f\"{x['fruit']} is tied for the least popular fruit among users with {x['count']} preferring it\") # we print a statement for each fruit that is tied for least popular with altered text to reflect the tie"
   ]
  },
  {
   "cell_type": "code",
   "execution_count": 50,
   "metadata": {},
   "outputs": [
    {
     "name": "stdout",
     "output_type": "stream",
     "text": [
      "there are a total of 210 unread messages for all users\n"
     ]
    }
   ],
   "source": [
    "# Total number of unread messages for all users\n",
    "\n",
    "# use list iteration and .strip to remove all non-numeric characters from each unread message and assign to a variable\n",
    "msgnumbers = [int(x['greeting'].lower().strip(\"abcdefghijklmonpqrstuvwxyz!,. \")) for x in data if 'unread' in x['greeting']] \n",
    "\n",
    "# sum the total number of messages and assign to a variable\n",
    "totalmsgs = sum(msgnumbers) \n",
    "\n",
    "# display results\n",
    "print(f'there are a total of {totalmsgs} unread messages for all users') "
   ]
  },
  {
   "cell_type": "code",
   "execution_count": null,
   "metadata": {},
   "outputs": [],
   "source": []
  },
  {
   "cell_type": "code",
   "execution_count": null,
   "metadata": {},
   "outputs": [],
   "source": []
  }
 ],
 "metadata": {
  "kernelspec": {
   "display_name": "Python 3",
   "language": "python",
   "name": "python3"
  },
  "language_info": {
   "codemirror_mode": {
    "name": "ipython",
    "version": 3
   },
   "file_extension": ".py",
   "mimetype": "text/x-python",
   "name": "python",
   "nbconvert_exporter": "python",
   "pygments_lexer": "ipython3",
   "version": "3.7.6"
  }
 },
 "nbformat": 4,
 "nbformat_minor": 4
}
