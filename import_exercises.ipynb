{
 "cells": [
  {
   "cell_type": "code",
   "execution_count": 2,
   "metadata": {},
   "outputs": [
    {
     "name": "stdout",
     "output_type": "stream",
     "text": [
      "a is a vowel\n"
     ]
    },
    {
     "data": {
      "text/plain": [
       "True"
      ]
     },
     "execution_count": 2,
     "metadata": {},
     "output_type": "execute_result"
    }
   ],
   "source": [
    "# import the module and refer to the function with the . syntax\n",
    "\n",
    "import function_exercises        # import function_exercises\n",
    "\n",
    "function_exercises.is_vowel('a') # import is_vowel to determine if string is a vowel\n"
   ]
  },
  {
   "cell_type": "code",
   "execution_count": 3,
   "metadata": {},
   "outputs": [
    {
     "data": {
      "text/plain": [
       "3000.0"
      ]
     },
     "execution_count": 3,
     "metadata": {},
     "output_type": "execute_result"
    }
   ],
   "source": [
    "# use from to import the function directly\n",
    "\n",
    "from function_exercises import handle_commas # using from to import handle_commas with no alias\n",
    "\n",
    "handle_commas('3,000')                       # using handle_commas to remove comma from string "
   ]
  },
  {
   "cell_type": "code",
   "execution_count": 4,
   "metadata": {},
   "outputs": [
    {
     "name": "stdout",
     "output_type": "stream",
     "text": [
      "Bird\n"
     ]
    },
    {
     "data": {
      "text/plain": [
       "'Bird'"
      ]
     },
     "execution_count": 4,
     "metadata": {},
     "output_type": "execute_result"
    }
   ],
   "source": [
    "# use from and give the function a different name\n",
    "\n",
    "from function_exercises import capital_consonant as capcon # using from to import capital_consonant with alias 'capcon'\n",
    "\n",
    "capcon('bird')                                             # using capcon function to capitalize argument if it starts with a consonant"
   ]
  },
  {
   "cell_type": "code",
   "execution_count": 5,
   "metadata": {},
   "outputs": [
    {
     "name": "stdout",
     "output_type": "stream",
     "text": [
      "[('a', 'b'), ('a', 'c'), ('a', '1'), ('a', '2'), ('a', '3'), ('b', 'c'), ('b', '1'), ('b', '2'), ('b', '3'), ('c', '1'), ('c', '2'), ('c', '3'), ('1', '2'), ('1', '3'), ('2', '3')]\n"
     ]
    }
   ],
   "source": [
    "# How many different ways can you combine the letters from \"abc\" with the numbers 1, 2, and 3?\n",
    "#@@@@@@@@?????????????? what?\n",
    "from itertools import *\n",
    "\n",
    "print(list(combinations('abc123', 2)))"
   ]
  },
  {
   "cell_type": "code",
   "execution_count": 172,
   "metadata": {},
   "outputs": [
    {
     "name": "stdout",
     "output_type": "stream",
     "text": [
      "as shown below we can create 12 combinations of letters using abcd if order doesnt matter\n",
      "\n",
      "[('a', 'b'), ('a', 'c'), ('a', 'd'), ('b', 'a'), ('b', 'c'), ('b', 'd'), ('c', 'a'), ('c', 'b'), ('c', 'd'), ('d', 'a'), ('d', 'b'), ('d', 'c')]\n",
      "\n",
      "if order matters we can create 6 combinations of letters using abcd\n",
      "\n",
      "[('a', 'b'), ('a', 'c'), ('a', 'd'), ('b', 'c'), ('b', 'd'), ('c', 'd')]\n"
     ]
    }
   ],
   "source": [
    "# How many different ways can you combine two of the letters from \"abcd\"?\n",
    "\n",
    "from itertools import * # import itertools\n",
    "\n",
    "# permutations shows combinations and considers a combination unique even if the same characters are repeated but in different positions \n",
    "print(f\"as shown below we can create {len(list(permutations('abcd', 2)))} combinations of letters using abcd if order doesnt matter\\n\")\n",
    "print(list(permutations('abcd', 2)))\n",
    "\n",
    "# combinations creates combinations and will not make combinations if a group of values has been used already, even if they change positions\n",
    "print(f\"\\nif order matters we can create {len(list(combinations('abcd', 2)))} combinations of letters using abcd\\n\")\n",
    "print(list(combinations('abcd', 2)))"
   ]
  },
  {
   "cell_type": "code",
   "execution_count": 23,
   "metadata": {},
   "outputs": [],
   "source": [
    "# JSON EXERCISES\n",
    "\n",
    "from json import * # importing json and all modules\n",
    "\n",
    "f = open('profiles.json') # storing open json file as variable\n",
    "  \n",
    "data = json.load(f) # storing loading of json file as variable"
   ]
  },
  {
   "cell_type": "code",
   "execution_count": 28,
   "metadata": {},
   "outputs": [
    {
     "name": "stdout",
     "output_type": "stream",
     "text": [
      "The total number of users is 19\n"
     ]
    }
   ],
   "source": [
    "# Total number of users\n",
    "\n",
    "idcount = len([i['_id'] for i in data]) # counting number of id values in dictionaries\n",
    "\n",
    "print(f'The total number of users is {idcount}') # print our results"
   ]
  },
  {
   "cell_type": "code",
   "execution_count": 33,
   "metadata": {},
   "outputs": [
    {
     "name": "stdout",
     "output_type": "stream",
     "text": [
      "The total number of active users is 9\n"
     ]
    }
   ],
   "source": [
    "# Number of active users\n",
    "\n",
    "active = len([i['_id'] for i in data if i['isActive'] == True]) # counting number of users with isActive status set to True\n",
    "\n",
    "print(f'The total number of active users is {active}') # print our results"
   ]
  },
  {
   "cell_type": "code",
   "execution_count": 275,
   "metadata": {},
   "outputs": [
    {
     "name": "stdout",
     "output_type": "stream",
     "text": [
      "The total number of inactive users is 10\n"
     ]
    }
   ],
   "source": [
    "# Number of inactive users\n",
    "\n",
    "inactive = len([i['_id'] for i in data if i['isActive'] == False]) # counting number of users with isActive status set to False\n",
    "\n",
    "print(f'The total number of inactive users is {inactive}') # print our results"
   ]
  },
  {
   "cell_type": "code",
   "execution_count": 108,
   "metadata": {},
   "outputs": [
    {
     "name": "stdout",
     "output_type": "stream",
     "text": [
      "The grand total of all balances of all user is 52667.02\n"
     ]
    }
   ],
   "source": [
    "# Grand total of balances for all users\n",
    "\n",
    "running_total = 0    # Create a variable with value 0\n",
    "\n",
    "# iterate through dictionaries to keep a running total of every balance\n",
    "# the code that to the right of running total removes the '$' and \",\" from each balance and then converts it to a float\n",
    "for x in data:       \n",
    "    running_total += float(x['balance'].replace(\",\", '').replace(\"$\", \"\")) \n",
    "    \n",
    "print(f'The grand total of all balances of all user is {round(running_total, 2)}')  # print our results"
   ]
  },
  {
   "cell_type": "code",
   "execution_count": 274,
   "metadata": {},
   "outputs": [
    {
     "name": "stdout",
     "output_type": "stream",
     "text": [
      "Hebert Estes's average balance is 110.37\n",
      "Allison Wynn's average balance is 192.32\n",
      "Jacobs Floyd's average balance is 80.84\n",
      "Fay Hammond's average balance is 206.3\n",
      "Chasity Marsh's average balance is 193.76\n",
      "Camacho Cortez's average balance is 89.18\n",
      "Avery Flynn's average balance is 63.9\n",
      "Michael Cash's average balance is 154.23\n",
      "Madeleine Bray's average balance is 102.32\n",
      "Corine French's average balance is 149.43\n",
      "Trudy Cummings's average balance is 129.86\n",
      "Peggy Mayer's average balance is 173.95\n",
      "Chan Hurley's average balance is 202.34\n",
      "Diaz Pena's average balance is 189.21\n",
      "Heath Castaneda's average balance is 154.75\n",
      "Greer Blankenship's average balance is 161.18\n",
      "Coffey Hayes's average balance is 161.46\n",
      "Leanne Hurst's average balance is 139.3\n",
      "Ewing Larson's average balance is 117.25\n",
      "\n",
      "If we divide the sum of all accounts by the number of users, we find the overall average balance to be 2771.95\n"
     ]
    }
   ],
   "source": [
    "# Average balance per user\n",
    "\n",
    "accounts = len([x['_id'] for x in data])    # stores the number of total accounts\n",
    "\n",
    "# iterate through dictionaries to keep a running total of every balance\n",
    "# the code that to the right of running total removes the '$' and \",\" from each balance converts it to a float\n",
    "# and then divides it by the total number of accounts. the quotient is printed along with the users name\n",
    "# at every iteration\n",
    "for x in data:\n",
    "    print(f'{x[\"name\"]}\\'s average balance is {round(float(x[\"balance\"].replace(\",\", \"\").replace(\"$\", \"\")) / accounts, 2)}' )\n",
    "\n",
    "# Average balance per user via sum of all accounts divided by total number of accounts\n",
    "# we sum the balance of all acounts after removing '$' and ',' and converting to float\n",
    "# we then divide the sum by the total number of accounts\n",
    "running_total = 0\n",
    "\n",
    "for x in data: \n",
    "    running_total += float(x['balance'].replace(\",\", '').replace(\"$\", \"\"))  \n",
    "print(f'\\nIf we divide the sum of all accounts by the number of users, we find the overall average balance to be {round(running_total / accounts, 2)}')\n"
   ]
  },
  {
   "cell_type": "code",
   "execution_count": 169,
   "metadata": {},
   "outputs": [
    {
     "name": "stdout",
     "output_type": "stream",
     "text": [
      "The lowest balance is $1,214.10, which belongs to Avery Flynn\n"
     ]
    }
   ],
   "source": [
    "# User with the lowest balance\n",
    "\n",
    "lowestbalance = min([x['balance'] for x in data]) # assign a variable equal to the lowest balance of all users via list iteration and the min method\n",
    "lowbalname = [x['name'] for x in data if x['balance'] == min([x['balance'] for x in data])] # assign a variable with the name of the person with the lowest balance found via list iteration\n",
    "\n",
    "print(f\"The lowest balance is {lowestbalance}, which belongs to {lowbalname[0]}\") # print our findings\n"
   ]
  },
  {
   "cell_type": "code",
   "execution_count": 174,
   "metadata": {},
   "outputs": [
    {
     "name": "stdout",
     "output_type": "stream",
     "text": [
      "The highest balance is $3,919.64, which belongs to Fay Hammond\n"
     ]
    }
   ],
   "source": [
    "# User with the highest balance\n",
    "\n",
    "highestbalance = max([x['balance'] for x in data]) # assign a variable equal to the highest balance of all users via list iteration and the min method\n",
    "highbalname = [x['name'] for x in data if x['balance'] == max([x['balance'] for x in data])] # assign a variable with the name of the person with the highest balance found via list iteration\n",
    "\n",
    "print(f\"The highest balance is {highestbalance}, which belongs to {highbalname[0]}\") # print our findings"
   ]
  },
  {
   "cell_type": "code",
   "execution_count": 220,
   "metadata": {},
   "outputs": [
    {
     "name": "stdout",
     "output_type": "stream",
     "text": [
      "strawberry is the most popular fruit among users with 9 preferring it\n"
     ]
    }
   ],
   "source": [
    "# Most common favorite fruit\n",
    "\n",
    "s = 0        # assign 3 variables to 0. these will be used to keep count of our fruits\n",
    "b = 0\n",
    "a = 0\n",
    "\n",
    "for x in data:\n",
    "    if x['favoriteFruit'] == 'strawberry':  # iterate through the data and each time a fruit is declared a favorite we add 1 to its counter\n",
    "        s += 1\n",
    "    if x['favoriteFruit'] == 'banana':\n",
    "        b += 1\n",
    "    if x['favoriteFruit'] == 'apple':\n",
    "        a += 1\n",
    "\n",
    "fruits = [{'fruit' : 'strawberry', 'count' : s}, {'fruit' : 'banana', 'count' : b}, {'fruit' : 'apple', 'count' : a}]   # create a list of dictionaries. each dictionary stores the names of the fruits and their respective counts\n",
    "\n",
    "maxfruit = max([x['count'] for x in fruits])  # assign a variable equal to the highest count from our list of dictionaries, fruits\n",
    "\n",
    "popfruit = 0\n",
    "\n",
    "for x in fruits:                # iterate through our new dictionary \n",
    "    if x['count'] == maxfruit:  # check if the count of a fruit matches the max count in our variable ie. most popular\n",
    "        popfruit += 1           # keep track of how many fruits are tied for the most popular\n",
    "\n",
    "for x in fruits:\n",
    "    if x['count'] == maxfruit and popfruit == 1:\n",
    "        print(f\"{x['fruit']} is the most popular fruit among users with {x['count']} preferring it\") # we print a statement declaring a fruit as the most popular if popfruit tells us there is only one winner\n",
    "    if x['count'] == maxfruit and popfruit > 1:\n",
    "         print(f\"{x['fruit']} is tied for the most popular fruit among users with {x['count']} preferring it\") # we print a statement for each fruit that is tied for most popular with altered text to reflect the tie"
   ]
  },
  {
   "cell_type": "code",
   "execution_count": 219,
   "metadata": {},
   "outputs": [
    {
     "name": "stdout",
     "output_type": "stream",
     "text": [
      "apple is the least popular fruit with among users with 4 preferring it\n"
     ]
    }
   ],
   "source": [
    "# Least common fruit\n",
    "\n",
    "s = 0        # assign 3 variables to 0. these will be used to keep count of our fruits\n",
    "b = 0\n",
    "a = 0\n",
    "\n",
    "for x in data:\n",
    "    if x['favoriteFruit'] == 'strawberry':  # iterate through the data and each time a fruit is declared a favorite we add 1 to its counter\n",
    "        s += 1\n",
    "    if x['favoriteFruit'] == 'banana':\n",
    "        b += 1\n",
    "    if x['favoriteFruit'] == 'apple':\n",
    "        a += 1\n",
    "\n",
    "fruits = [{'fruit' : 'strawberry', 'count' : s}, {'fruit' : 'banana', 'count' : b}, {'fruit' : 'apple', 'count' : a}]   # create a list of dictionaries. each dictionary stores the names of the fruits and their respective counts\n",
    "\n",
    "minfruit = min([x['count'] for x in fruits])  # assign a variable equal to the lowest count from our list of dictionaries, fruits\n",
    "\n",
    "unpopfruit = 0\n",
    "\n",
    "for x in fruits:                # iterate through our new dictionary \n",
    "    if x['count'] == minfruit:  # check if the count of a fruit matches the min count in our variable ie. least popular\n",
    "        unpopfruit += 1           # keep track of how many fruits are tied for the least popular\n",
    "\n",
    "for x in fruits:\n",
    "    if x['count'] == minfruit and unpopfruit == 1:\n",
    "        print(f\"{x['fruit']} is the least popular fruit among users with {x['count']} preferring it\") # we print a statement declaring a fruit as the least popular if unpopfruit tells us there is only one winner\n",
    "    if x['count'] == minfruit and unpopfruit > 1:\n",
    "         print(f\"{x['fruit']} is tied for the least popular fruit among users with {x['count']} preferring it\") # we print a statement for each fruit that is tied for least popular with altered text to reflect the tie"
   ]
  },
  {
   "cell_type": "code",
   "execution_count": 268,
   "metadata": {},
   "outputs": [
    {
     "name": "stdout",
     "output_type": "stream",
     "text": [
      "there are a total of 210 unread messages for all users\n"
     ]
    }
   ],
   "source": [
    "# Total number of unread messages for all users\n",
    "\n",
    "# use list iteration and .strip to remove all non-numeric characters from each unread message and assign to a variable\n",
    "msgnumbers = [int(x['greeting'].lower().strip(\"abcdefghijklmonpqrstuvwxyz!,. \")) for x in data if 'unread' in x['greeting']] \n",
    "\n",
    "totalmsgs = sum(msgnumbers) # sum the total number of messages and assign to a variable\n",
    "\n",
    "print(f'there are a total of {totalmsgs} unread messages for all users') # display results"
   ]
  },
  {
   "cell_type": "code",
   "execution_count": null,
   "metadata": {},
   "outputs": [],
   "source": []
  },
  {
   "cell_type": "code",
   "execution_count": null,
   "metadata": {},
   "outputs": [],
   "source": []
  }
 ],
 "metadata": {
  "kernelspec": {
   "display_name": "Python 3",
   "language": "python",
   "name": "python3"
  },
  "language_info": {
   "codemirror_mode": {
    "name": "ipython",
    "version": 3
   },
   "file_extension": ".py",
   "mimetype": "text/x-python",
   "name": "python",
   "nbconvert_exporter": "python",
   "pygments_lexer": "ipython3",
   "version": "3.7.6"
  }
 },
 "nbformat": 4,
 "nbformat_minor": 4
}
