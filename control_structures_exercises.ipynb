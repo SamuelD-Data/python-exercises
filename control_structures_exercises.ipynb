{
 "cells": [
  {
   "cell_type": "markdown",
   "metadata": {},
   "source": [
    "# control_sctructures_exercises"
   ]
  },
  {
   "cell_type": "markdown",
   "metadata": {},
   "source": [
    "## conditional basics"
   ]
  },
  {
   "cell_type": "code",
   "execution_count": 579,
   "metadata": {},
   "outputs": [
    {
     "name": "stdout",
     "output_type": "stream",
     "text": [
      "Enter a day of the week: monday\n",
      "You input monday\n"
     ]
    }
   ],
   "source": [
    "# prompt the user for a day of the week, print out whether the day is Monday or not\n",
    "\n",
    "day = input(\"Enter a day of the week: \")\n",
    "\n",
    "if day.lower() == 'monday':\n",
    "    print('You input monday')\n",
    "else: \n",
    "    print('You did not input monday')"
   ]
  },
  {
   "cell_type": "code",
   "execution_count": 2,
   "metadata": {},
   "outputs": [
    {
     "name": "stdout",
     "output_type": "stream",
     "text": [
      "Enter a day of the week: friday\n",
      "friday is a weekday\n"
     ]
    }
   ],
   "source": [
    "# prompt the user for a day of the week, print out whether the day is a weekday or a weekend\n",
    "\n",
    "weekdays = ['monday', 'tuesday', 'wednesday', 'thursday', 'friday']\n",
    "weekend = ['saturday', 'sunday']\n",
    "day = input(\"Enter a day of the week: \")\n",
    "\n",
    "if day.lower() in weekdays:\n",
    "    print(f'{day} is a weekday')\n",
    "    \n",
    "elif day.lower() in weekend:\n",
    "    print(f'{day} is a weekend day')\n",
    "    \n",
    "else: \n",
    "    print(f'{day} is not a day of the week')"
   ]
  },
  {
   "cell_type": "code",
   "execution_count": 547,
   "metadata": {},
   "outputs": [
    {
     "name": "stdout",
     "output_type": "stream",
     "text": [
      "486.88\n"
     ]
    }
   ],
   "source": [
    "\"\"\" \n",
    "create variables and make up values for:\n",
    "1) the number of hours worked in one week\n",
    "2) the hourly rate\n",
    "3) how much the week's paycheck will be\n",
    "THEN write the python code that calculates the weekly paycheck. \n",
    "You get paid time and a half if you work more than 40 hours \n",
    "\"\"\"\n",
    "\n",
    "hours = 45\n",
    "rate = 10.25\n",
    "ot = (hours - 40) * (rate * 1.5)\n",
    "reg_paycheck = rate * hours\n",
    "ot_paycheck = ot + (rate * 40)\n",
    "\n",
    "if hours > 40:\n",
    "    print (round(ot_paycheck, 2))\n",
    "else:\n",
    "    print (round(reg_paycheck, 2))"
   ]
  },
  {
   "cell_type": "markdown",
   "metadata": {},
   "source": [
    "## loop basics"
   ]
  },
  {
   "cell_type": "code",
   "execution_count": 4,
   "metadata": {},
   "outputs": [
    {
     "name": "stdout",
     "output_type": "stream",
     "text": [
      "5\n",
      "6\n",
      "7\n",
      "8\n",
      "9\n",
      "10\n",
      "11\n",
      "12\n",
      "13\n",
      "14\n",
      "15\n"
     ]
    }
   ],
   "source": [
    "\"\"\"\n",
    "Create an integer variable i with a value of 5.\n",
    "Create a while loop that runs so long as i is less than or equal to 15\n",
    "Each loop iteration, output the current value of i, then increment i by one.\n",
    "\"\"\"\n",
    "\n",
    "i = 5\n",
    "while i <= 15:\n",
    "    print(i)\n",
    "    i += 1"
   ]
  },
  {
   "cell_type": "code",
   "execution_count": 5,
   "metadata": {},
   "outputs": [
    {
     "name": "stdout",
     "output_type": "stream",
     "text": [
      "0\n",
      "2\n",
      "4\n",
      "6\n",
      "8\n",
      "10\n",
      "12\n",
      "14\n",
      "16\n",
      "18\n",
      "20\n",
      "22\n",
      "24\n",
      "26\n",
      "28\n",
      "30\n",
      "32\n",
      "34\n",
      "36\n",
      "38\n",
      "40\n",
      "42\n",
      "44\n",
      "46\n",
      "48\n",
      "50\n",
      "52\n",
      "54\n",
      "56\n",
      "58\n",
      "60\n",
      "62\n",
      "64\n",
      "66\n",
      "68\n",
      "70\n",
      "72\n",
      "74\n",
      "76\n",
      "78\n",
      "80\n",
      "82\n",
      "84\n",
      "86\n",
      "88\n",
      "90\n",
      "92\n",
      "94\n",
      "96\n",
      "98\n",
      "100\n"
     ]
    }
   ],
   "source": [
    "# Create a while loop that will count by 2's starting with 0 and ending at 100. Follow each number with a new line.\n",
    "\n",
    "i = 0\n",
    "while i <= 100:\n",
    "    print(i)\n",
    "    i += 2"
   ]
  },
  {
   "cell_type": "code",
   "execution_count": 9,
   "metadata": {},
   "outputs": [
    {
     "name": "stdout",
     "output_type": "stream",
     "text": [
      "100\n",
      "95\n",
      "90\n",
      "85\n",
      "80\n",
      "75\n",
      "70\n",
      "65\n",
      "60\n",
      "55\n",
      "50\n",
      "45\n",
      "40\n",
      "35\n",
      "30\n",
      "25\n",
      "20\n",
      "15\n",
      "10\n",
      "5\n",
      "0\n",
      "-5\n",
      "-10\n"
     ]
    }
   ],
   "source": [
    "# Alter your loop to count backwards by 5's from 100 to -10.\n",
    "\n",
    "i = 100\n",
    "while i >= -10:\n",
    "    print(i)\n",
    "    i -= 5"
   ]
  },
  {
   "cell_type": "code",
   "execution_count": 18,
   "metadata": {},
   "outputs": [
    {
     "name": "stdout",
     "output_type": "stream",
     "text": [
      "2\n",
      "4\n",
      "16\n",
      "256\n",
      "65536\n"
     ]
    }
   ],
   "source": [
    "# Create a while loop that starts at 2, and displays the number squared on each \n",
    "#line while the number is less than 1,000,000. \n",
    "\n",
    "i = 2\n",
    "while i <= 1000000:\n",
    "    print(i)\n",
    "    i = i**2\n"
   ]
  },
  {
   "cell_type": "code",
   "execution_count": 19,
   "metadata": {},
   "outputs": [
    {
     "name": "stdout",
     "output_type": "stream",
     "text": [
      "100\n",
      "95\n",
      "90\n",
      "85\n",
      "80\n",
      "75\n",
      "70\n",
      "65\n",
      "60\n",
      "55\n",
      "50\n",
      "45\n",
      "40\n",
      "35\n",
      "30\n",
      "25\n",
      "20\n",
      "15\n",
      "10\n",
      "5\n"
     ]
    }
   ],
   "source": [
    "# Write a loop that uses print to create the output shown below.\n",
    "\n",
    "i = 100\n",
    "while i >= 5:\n",
    "    print(i)\n",
    "    i -= 5"
   ]
  },
  {
   "cell_type": "markdown",
   "metadata": {},
   "source": [
    "## For Loops"
   ]
  },
  {
   "cell_type": "code",
   "execution_count": 305,
   "metadata": {},
   "outputs": [
    {
     "name": "stdout",
     "output_type": "stream",
     "text": [
      "please input a number: 6\n",
      "\n",
      "1 * 6 = 6\n",
      "2 * 6 = 12\n",
      "3 * 6 = 18\n",
      "4 * 6 = 24\n",
      "5 * 6 = 30\n",
      "6 * 6 = 36\n",
      "7 * 6 = 42\n",
      "8 * 6 = 48\n",
      "9 * 6 = 54\n",
      "10 * 6 = 60\n"
     ]
    }
   ],
   "source": [
    "# Write some code that prompts the user for a number, \n",
    "# then shows a multiplication table up through 10 for that number.\n",
    "\n",
    "number = (input('please input a number: '))\n",
    "print()\n",
    "\n",
    "if number.isdigit():\n",
    "    for x in range(1, 11):\n",
    "        print(f'{x} * {number} = {x * int(number)}')\n",
    "else:\n",
    "    print('you did not input a number. please input a number.')\n",
    "        "
   ]
  },
  {
   "cell_type": "code",
   "execution_count": 138,
   "metadata": {},
   "outputs": [
    {
     "name": "stdout",
     "output_type": "stream",
     "text": [
      "1\n",
      "22\n",
      "333\n",
      "4444\n",
      "55555\n",
      "666666\n",
      "7777777\n",
      "88888888\n",
      "999999999\n"
     ]
    }
   ],
   "source": [
    "# Create a for loop that uses print to create the output shown below.\n",
    "\n",
    "for x in range(1,10):\n",
    "    print(str(x) * x)"
   ]
  },
  {
   "cell_type": "code",
   "execution_count": 638,
   "metadata": {},
   "outputs": [
    {
     "name": "stdout",
     "output_type": "stream",
     "text": [
      "please input an odd number between 1 and 50: 5\n",
      "Here is an odd number: 1\n",
      "Here is an odd number: 3\n",
      "Yikes! Skipping number: 5\n",
      "Here is an odd number: 7\n",
      "Here is an odd number: 9\n",
      "Here is an odd number: 11\n",
      "Here is an odd number: 13\n",
      "Here is an odd number: 15\n",
      "Here is an odd number: 17\n",
      "Here is an odd number: 19\n",
      "Here is an odd number: 21\n",
      "Here is an odd number: 23\n",
      "Here is an odd number: 25\n",
      "Here is an odd number: 27\n",
      "Here is an odd number: 29\n",
      "Here is an odd number: 31\n",
      "Here is an odd number: 33\n",
      "Here is an odd number: 35\n",
      "Here is an odd number: 37\n",
      "Here is an odd number: 39\n",
      "Here is an odd number: 41\n",
      "Here is an odd number: 43\n",
      "Here is an odd number: 45\n",
      "Here is an odd number: 47\n",
      "Here is an odd number: 49\n"
     ]
    }
   ],
   "source": [
    "\"\"\"\n",
    "Prompt the user for an odd number between 1 and 50. \n",
    "Use a loop and a break statement to continue prompting the user if they enter invalid input. \n",
    "(Hint: use the isdigit method on strings to determine this). \n",
    "Use a loop and the continue statement to output all the odd numbers between 1 and 50, \n",
    "except for the number the user entered.\n",
    "\"\"\"\n",
    "\n",
    "number = input('please input an odd number between 1 and 50: ')\n",
    "\n",
    "for x in range(1,51,2):\n",
    "    while number.isdigit() == False or int(number) < 1 or int(number) > 50 or int(number) % 2 == 0:\n",
    "        print('\\nYou must enter an odd number between 1 and 50. Try again.\\n')\n",
    "        number = input('please input an odd number between 1 and 50: ')\n",
    "        if number.isdigit() == True and int(number) >= 1 and int(number) < 50 and int(number) % 2 == 1:\n",
    "            print('\\n', number, 'is the number to skip\\n')\n",
    "            break\n",
    "            \n",
    "    if x == int(number):\n",
    "        print('Yikes! Skipping number:', x)\n",
    "        continue\n",
    "       \n",
    "        \n",
    "    print('Here is an odd number:', x)\n",
    "    "
   ]
  },
  {
   "cell_type": "code",
   "execution_count": 634,
   "metadata": {},
   "outputs": [
    {
     "name": "stdout",
     "output_type": "stream",
     "text": [
      "please input a positive number: 5\n",
      "\n",
      " [0, 1, 2, 3, 4, 5]\n"
     ]
    }
   ],
   "source": [
    "\"\"\"\n",
    "The input function can be used to prompt for input and use that input in your python code. \n",
    "Prompt the user to enter a positive number and write a loop that counts from 0 to that number. \n",
    "(Hints: first make sure that the value the user entered is a valid number, \n",
    " also note that the input function returns a string, so youll need to convert this to a numeric type.)\n",
    "\"\"\"\n",
    "\n",
    "number = input('please input a positive number: ')\n",
    "\n",
    "\n",
    "while number.isdigit() == False or int(number) < 0:\n",
    "    number = input('that is not a positive number. please input a positive number: ')\n",
    "    if number.isdigit() == True and int(number) > 0:\n",
    "        break\n",
    "        \n",
    "print('\\n',list(x for x in range(0,int(number)+1)))\n",
    "\n"
   ]
  },
  {
   "cell_type": "code",
   "execution_count": 518,
   "metadata": {},
   "outputs": [
    {
     "name": "stdout",
     "output_type": "stream",
     "text": [
      "please input a positive integer: t\n",
      "please input a positive integer: 4\n",
      "\n",
      " [4, 3, 2, 1]\n"
     ]
    }
   ],
   "source": [
    "# Write a program that prompts the user for a positive integer. \n",
    "# Next write a loop that prints out the numbers from the number the user entered down to 1.\n",
    "\n",
    "number = input('please input a positive integer: ')\n",
    "\n",
    "while number.isdigit() == False or int(number) < 0:\n",
    "    number = input('please input a positive integer: ')\n",
    "    if number.isdigit() == True and int(number) > 0:\n",
    "        break\n",
    "\n",
    "print('\\n',list(x for x in range(int(number), 0, -1)))\n"
   ]
  },
  {
   "cell_type": "code",
   "execution_count": 432,
   "metadata": {
    "scrolled": true
   },
   "outputs": [
    {
     "name": "stdout",
     "output_type": "stream",
     "text": [
      "1\n",
      "2\n",
      "Fizz\n",
      "4\n",
      "Buzz\n",
      "Fizz\n",
      "7\n",
      "8\n",
      "Fizz\n",
      "Buzz\n",
      "11\n",
      "Fizz\n",
      "13\n",
      "14\n",
      "FizzBuzz\n",
      "16\n",
      "17\n",
      "Fizz\n",
      "19\n",
      "Buzz\n",
      "Fizz\n",
      "22\n",
      "23\n",
      "Fizz\n",
      "Buzz\n",
      "26\n",
      "Fizz\n",
      "28\n",
      "29\n",
      "FizzBuzz\n",
      "31\n",
      "32\n",
      "Fizz\n",
      "34\n",
      "Buzz\n",
      "Fizz\n",
      "37\n",
      "38\n",
      "Fizz\n",
      "Buzz\n",
      "41\n",
      "Fizz\n",
      "43\n",
      "44\n",
      "FizzBuzz\n",
      "46\n",
      "47\n",
      "Fizz\n",
      "49\n",
      "Buzz\n",
      "Fizz\n",
      "52\n",
      "53\n",
      "Fizz\n",
      "Buzz\n",
      "56\n",
      "Fizz\n",
      "58\n",
      "59\n",
      "FizzBuzz\n",
      "61\n",
      "62\n",
      "Fizz\n",
      "64\n",
      "Buzz\n",
      "Fizz\n",
      "67\n",
      "68\n",
      "Fizz\n",
      "Buzz\n",
      "71\n",
      "Fizz\n",
      "73\n",
      "74\n",
      "FizzBuzz\n",
      "76\n",
      "77\n",
      "Fizz\n",
      "79\n",
      "Buzz\n",
      "Fizz\n",
      "82\n",
      "83\n",
      "Fizz\n",
      "Buzz\n",
      "86\n",
      "Fizz\n",
      "88\n",
      "89\n",
      "FizzBuzz\n",
      "91\n",
      "92\n",
      "Fizz\n",
      "94\n",
      "Buzz\n",
      "Fizz\n",
      "97\n",
      "98\n",
      "Fizz\n",
      "Buzz\n"
     ]
    }
   ],
   "source": [
    "\"\"\"\n",
    "Write a program that prints the numbers from 1 to 100.\n",
    "For multiples of three print \"Fizz\" instead of the number\n",
    "For the multiples of five print \"Buzz\".\n",
    "For numbers which are multiples of both three and five print \"FizzBuzz\".\n",
    "\"\"\"\n",
    "\n",
    "for x in range(1,101):\n",
    "    if x % 3 == 0 and x % 5 == 0:\n",
    "        print('FizzBuzz')\n",
    "    elif x % 3 == 0:\n",
    "        print('Fizz')\n",
    "    elif x % 5 == 0:\n",
    "        print('Buzz')\n",
    "    else:\n",
    "        print(x)"
   ]
  },
  {
   "cell_type": "code",
   "execution_count": 543,
   "metadata": {},
   "outputs": [
    {
     "name": "stdout",
     "output_type": "stream",
     "text": [
      "What number would you like to go up to: 5\n",
      "Here is your table!\n",
      "\n",
      "number | squared | cubed\n",
      "------ | ------- | -----\n",
      "1      |1        |1      \n",
      "2      |4        |8      \n",
      "3      |9        |27     \n",
      "4      |16       |64     \n",
      "5      |25       |125    \n",
      "Would you like to continue? (y/n): y\n",
      "What number would you like to go up to: 4\n",
      "Here is your table!\n",
      "\n",
      "number | squared | cubed\n",
      "------ | ------- | -----\n",
      "1      |1        |1      \n",
      "2      |4        |8      \n",
      "3      |9        |27     \n",
      "4      |16       |64     \n",
      "Would you like to continue? (y/n): n\n"
     ]
    }
   ],
   "source": [
    "\"\"\"\n",
    "Display a table of powers.\n",
    "Prompt the user to enter an integer.\n",
    "Display a table of squares and cubes from 1 to the value entered.\n",
    "Ask if the user wants to continue.\n",
    "Assume that the user will enter valid data.\n",
    "Only continue if the user agrees to.\n",
    "\"\"\"\n",
    "\n",
    "user_check = 'y'\n",
    "while user_check.lower() == 'y':\n",
    "    num_input = int(input(\"What number would you like to go up to: \"))\n",
    "    print(\"Here is your table!\")\n",
    "    print(\"\\nnumber | squared | cubed\")\n",
    "    print(\"------ | ------- | -----\")\n",
    "    for num in range(1, num_input + 1):\n",
    "        print(\"{:<7}|{:<9}|{:<7}\".format(num,num**2,num**3))\n",
    "    user_check = input(\"Would you like to continue? (y/n): \")"
   ]
  },
  {
   "cell_type": "code",
   "execution_count": 542,
   "metadata": {},
   "outputs": [
    {
     "name": "stdout",
     "output_type": "stream",
     "text": [
      "Please enter a grade: 76\n",
      "\n",
      " 76 is a C! \n",
      "\n",
      "Would you like to continue? \"y\" for yes. \"n\" for no y\n",
      "Please enter a grade: 67\n",
      "\n",
      " 67 is a C-! \n",
      "\n",
      "Would you like to continue? \"y\" for yes. \"n\" for no n\n"
     ]
    }
   ],
   "source": [
    "\"\"\"\n",
    "Convert given number grades into letter grades.\n",
    "Prompt the user for a numerical grade from 0 to 100.\n",
    "Display the corresponding letter grade.\n",
    "Prompt the user to continue.\n",
    "Assume that the user will enter valid integers for the grades.\n",
    "The application should only continue if the user agrees to.\n",
    "Grade Ranges:\n",
    "\n",
    "A : 100 - 88\n",
    "B : 87 - 80\n",
    "C : 79 - 67\n",
    "D : 66 - 60\n",
    "F : 59 - 0\n",
    "\"\"\"\n",
    "\n",
    "usercon = 'y'\n",
    "while usercon.lower() == 'y':\n",
    "    grade = int(input('Please enter a grade: '))\n",
    "    if grade >= 99 and grade <= 100:\n",
    "        print('\\n',f'{grade} is an A+!','\\n')\n",
    "    elif grade >= 90:\n",
    "        print('\\n',f'{grade} is an A!','\\n')\n",
    "    elif grade >= 88:\n",
    "        print('\\n',f'{grade} is an A-!','\\n')\n",
    "    elif grade >= 86:\n",
    "        print('\\n',f'{grade} is a B+!','\\n')\n",
    "    elif grade >= 82:\n",
    "        print('\\n',f'{grade} is a B!','\\n')\n",
    "    elif grade >= 80:\n",
    "        print('\\n',f'{grade} is a B-!','\\n')\n",
    "    elif grade >= 78:\n",
    "        print('\\n',f'{grade} is a C+!','\\n')\n",
    "    elif grade >= 69:\n",
    "        print('\\n',f'{grade} is a C!','\\n')\n",
    "    elif grade >= 67:\n",
    "        print('\\n',f'{grade} is a C-!','\\n')\n",
    "    elif grade >= 65:\n",
    "        print('\\n',f'{grade} is a D+!','\\n')\n",
    "    elif grade >= 62:\n",
    "        print('\\n',f'{grade} is a D!','\\n')\n",
    "    elif grade >= 60:\n",
    "        print('\\n',f'{grade} is a D-!','\\n')\n",
    "    elif grade <= 59:\n",
    "        print('\\n',f'{grade} is an F!','\\n')\n",
    "    else:\n",
    "        print('you did not enter a grade between 1-100')\n",
    "    usercon = input('Would you like to continue? \"y\" for yes. \"n\" for no ')\n"
   ]
  },
  {
   "cell_type": "code",
   "execution_count": 553,
   "metadata": {},
   "outputs": [
    {
     "data": {
      "text/plain": [
       "[{'title': '1984', 'author': 'George Orwell', 'genre': 'fiction'},\n",
       " {'title': 'The Cat in the Hat', 'author': 'Dr. Seuss', 'genre': 'fiction'},\n",
       " {'title': 'Start-Up Nation', 'author': 'Dan Senor', 'genre': 'non fiction'}]"
      ]
     },
     "execution_count": 553,
     "metadata": {},
     "output_type": "execute_result"
    }
   ],
   "source": [
    "\"\"\"\n",
    "Create a list of dictionaries where each dictionary represents a book that you have read. \n",
    "Each dictionary in the list should have the keys title, author, and genre. \n",
    "Loop through the list and print out information about each book.\n",
    "\"\"\"\n",
    "books = [\n",
    "    {\n",
    "        \"title\": \"1984\",\n",
    "        \"author\": \"George Orwell\",\n",
    "        \"genre\": \"fiction\",\n",
    "    },\n",
    "    {\n",
    "        \"title\": \"The Cat in the Hat\",\n",
    "        \"author\": \"Dr. Seuss\",\n",
    "        \"genre\": \"fiction\",\n",
    "    },\n",
    "    {\n",
    "        \"title\": \"Start-Up Nation\",\n",
    "        \"author\": \"Dan Senor\",\n",
    "        \"genre\": \"non fiction\",\n",
    "    }]\n",
    "\n",
    "[x for x in books]\n"
   ]
  },
  {
   "cell_type": "code",
   "execution_count": 633,
   "metadata": {},
   "outputs": [
    {
     "name": "stdout",
     "output_type": "stream",
     "text": [
      "Please enter a genre: fiction\n",
      "\n",
      "1984 falls under the genre of fiction\n",
      "\n",
      "The Cat in the Hat falls under the genre of fiction\n"
     ]
    }
   ],
   "source": [
    "#Prompt the user to enter a genre, \n",
    "#then loop through your books list and print out the titles of all the books in that genre.\n",
    "\n",
    "gen = input('Please enter a genre: ')\n",
    "\n",
    "while gen not in [x['genre'] for x in books]:\n",
    "    gen = input('No books matching requested genre. Please enter a new genre: ')\n",
    "    if gen in [x['genre'] for x in books]:\n",
    "        break\n",
    "\n",
    "\n",
    "for x in books:\n",
    "    if gen == x['genre']:\n",
    "        print('\\n{} falls under the genre of {}'.format(x['title'], gen))"
   ]
  },
  {
   "cell_type": "code",
   "execution_count": null,
   "metadata": {},
   "outputs": [],
   "source": []
  },
  {
   "cell_type": "code",
   "execution_count": null,
   "metadata": {},
   "outputs": [],
   "source": []
  },
  {
   "cell_type": "code",
   "execution_count": null,
   "metadata": {},
   "outputs": [],
   "source": []
  },
  {
   "cell_type": "code",
   "execution_count": null,
   "metadata": {},
   "outputs": [],
   "source": []
  },
  {
   "cell_type": "code",
   "execution_count": null,
   "metadata": {},
   "outputs": [],
   "source": []
  },
  {
   "cell_type": "code",
   "execution_count": null,
   "metadata": {},
   "outputs": [],
   "source": []
  },
  {
   "cell_type": "code",
   "execution_count": null,
   "metadata": {},
   "outputs": [],
   "source": []
  },
  {
   "cell_type": "code",
   "execution_count": null,
   "metadata": {},
   "outputs": [],
   "source": []
  },
  {
   "cell_type": "code",
   "execution_count": null,
   "metadata": {},
   "outputs": [],
   "source": []
  },
  {
   "cell_type": "code",
   "execution_count": null,
   "metadata": {},
   "outputs": [],
   "source": []
  }
 ],
 "metadata": {
  "kernelspec": {
   "display_name": "Python 3",
   "language": "python",
   "name": "python3"
  },
  "language_info": {
   "codemirror_mode": {
    "name": "ipython",
    "version": 3
   },
   "file_extension": ".py",
   "mimetype": "text/x-python",
   "name": "python",
   "nbconvert_exporter": "python",
   "pygments_lexer": "ipython3",
   "version": "3.7.6"
  }
 },
 "nbformat": 4,
 "nbformat_minor": 4
}
