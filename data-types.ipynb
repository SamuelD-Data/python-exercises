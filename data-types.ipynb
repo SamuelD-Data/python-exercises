{
 "cells": [
  {
   "cell_type": "markdown",
   "metadata": {},
   "source": [
    "## Identify the data type of the following values:\n",
    "\n",
    "**99.9**\n",
    "float\n",
    "\n",
    "**\"False\"**\n",
    "string\n",
    "\n",
    "**False**\n",
    "boolean\n",
    "\n",
    "**'0'**\n",
    "string\n",
    "\n",
    "**0**\n",
    "int\n",
    "\n",
    "**True**\n",
    "boolean\n",
    "\n",
    "**'True'**\n",
    "string\n",
    "\n",
    "**[{}]**\n",
    "list\n",
    "\n",
    "**{'a': []}**\n",
    "dictionary"
   ]
  },
  {
   "cell_type": "markdown",
   "metadata": {},
   "source": [
    "## What data type would best represent:\n",
    "\n",
    "**A term or phrase typed into a search box?**\n",
    "\n",
    "string\n",
    "\n",
    "**If a user is logged in?**\n",
    "\n",
    "boolean\n",
    "\n",
    "**A discount amount to apply to a user's shopping cart?**\n",
    "\n",
    "float\n",
    "\n",
    "**Whether or not a coupon code is valid?**\n",
    "\n",
    "boolean\n",
    "\n",
    "**An email address typed into a registration form?**\n",
    "\n",
    "string\n",
    "\n",
    "**The price of a product?**\n",
    "\n",
    "float\n",
    "\n",
    "**A Matrix?**\n",
    "\n",
    "dictionary\n",
    "\n",
    "**The email addresses collected from a registration form?**\n",
    "\n",
    "dictionary\n",
    "\n",
    "**Information about applicants to Codeup's data science program?**\n",
    "\n",
    "dictionary"
   ]
  },
  {
   "cell_type": "markdown",
   "metadata": {},
   "source": [
    "## For each of the following code blocks, read the expression and predict what the result of evaluating it would be, then execute the expression in your Python REPL."
   ]
  },
  {
   "cell_type": "code",
   "execution_count": 231,
   "metadata": {},
   "outputs": [
    {
     "ename": "TypeError",
     "evalue": "can only concatenate str (not \"int\") to str",
     "output_type": "error",
     "traceback": [
      "\u001b[0;31m---------------------------------------------------------------------------\u001b[0m",
      "\u001b[0;31mTypeError\u001b[0m                                 Traceback (most recent call last)",
      "\u001b[0;32m<ipython-input-231-20b2518fe802>\u001b[0m in \u001b[0;36m<module>\u001b[0;34m\u001b[0m\n\u001b[0;32m----> 1\u001b[0;31m \u001b[0;34m'1'\u001b[0m \u001b[0;34m+\u001b[0m \u001b[0;36m2\u001b[0m\u001b[0;34m\u001b[0m\u001b[0;34m\u001b[0m\u001b[0m\n\u001b[0m",
      "\u001b[0;31mTypeError\u001b[0m: can only concatenate str (not \"int\") to str"
     ]
    }
   ],
   "source": [
    "'1' + 2"
   ]
  },
  {
   "cell_type": "code",
   "execution_count": 235,
   "metadata": {
    "scrolled": true
   },
   "outputs": [
    {
     "data": {
      "text/plain": [
       "2"
      ]
     },
     "execution_count": 235,
     "metadata": {},
     "output_type": "execute_result"
    }
   ],
   "source": [
    "6 % 4"
   ]
  },
  {
   "cell_type": "code",
   "execution_count": 236,
   "metadata": {},
   "outputs": [
    {
     "data": {
      "text/plain": [
       "int"
      ]
     },
     "execution_count": 236,
     "metadata": {},
     "output_type": "execute_result"
    }
   ],
   "source": [
    "type(6 % 4)"
   ]
  },
  {
   "cell_type": "code",
   "execution_count": 237,
   "metadata": {},
   "outputs": [
    {
     "data": {
      "text/plain": [
       "type"
      ]
     },
     "execution_count": 237,
     "metadata": {},
     "output_type": "execute_result"
    }
   ],
   "source": [
    "type(type(6 % 4))"
   ]
  },
  {
   "cell_type": "code",
   "execution_count": 238,
   "metadata": {},
   "outputs": [
    {
     "ename": "TypeError",
     "evalue": "can only concatenate str (not \"int\") to str",
     "output_type": "error",
     "traceback": [
      "\u001b[0;31m---------------------------------------------------------------------------\u001b[0m",
      "\u001b[0;31mTypeError\u001b[0m                                 Traceback (most recent call last)",
      "\u001b[0;32m<ipython-input-238-d779031f2239>\u001b[0m in \u001b[0;36m<module>\u001b[0;34m\u001b[0m\n\u001b[0;32m----> 1\u001b[0;31m \u001b[0;34m'3 + 4 is '\u001b[0m \u001b[0;34m+\u001b[0m \u001b[0;36m3\u001b[0m \u001b[0;34m+\u001b[0m \u001b[0;36m4\u001b[0m\u001b[0;34m\u001b[0m\u001b[0;34m\u001b[0m\u001b[0m\n\u001b[0m",
      "\u001b[0;31mTypeError\u001b[0m: can only concatenate str (not \"int\") to str"
     ]
    }
   ],
   "source": [
    "'3 + 4 is ' + 3 + 4"
   ]
  },
  {
   "cell_type": "code",
   "execution_count": 239,
   "metadata": {},
   "outputs": [
    {
     "data": {
      "text/plain": [
       "False"
      ]
     },
     "execution_count": 239,
     "metadata": {},
     "output_type": "execute_result"
    }
   ],
   "source": [
    "0 < 0"
   ]
  },
  {
   "cell_type": "code",
   "execution_count": 240,
   "metadata": {},
   "outputs": [
    {
     "data": {
      "text/plain": [
       "False"
      ]
     },
     "execution_count": 240,
     "metadata": {},
     "output_type": "execute_result"
    }
   ],
   "source": [
    "'False' == False"
   ]
  },
  {
   "cell_type": "code",
   "execution_count": 241,
   "metadata": {},
   "outputs": [
    {
     "data": {
      "text/plain": [
       "False"
      ]
     },
     "execution_count": 241,
     "metadata": {},
     "output_type": "execute_result"
    }
   ],
   "source": [
    "True == 'True'"
   ]
  },
  {
   "cell_type": "code",
   "execution_count": 242,
   "metadata": {},
   "outputs": [
    {
     "data": {
      "text/plain": [
       "True"
      ]
     },
     "execution_count": 242,
     "metadata": {},
     "output_type": "execute_result"
    }
   ],
   "source": [
    "5 >= -5"
   ]
  },
  {
   "cell_type": "code",
   "execution_count": 258,
   "metadata": {},
   "outputs": [],
   "source": [
    "!False or False"
   ]
  },
  {
   "cell_type": "code",
   "execution_count": 244,
   "metadata": {},
   "outputs": [
    {
     "data": {
      "text/plain": [
       "True"
      ]
     },
     "execution_count": 244,
     "metadata": {},
     "output_type": "execute_result"
    }
   ],
   "source": [
    "True or \"42\""
   ]
  },
  {
   "cell_type": "code",
   "execution_count": 246,
   "metadata": {},
   "outputs": [
    {
     "name": "stdout",
     "output_type": "stream",
     "text": [
      "/bin/sh: !False: command not found\r\n"
     ]
    }
   ],
   "source": [
    "!True && !False"
   ]
  },
  {
   "cell_type": "code",
   "execution_count": 247,
   "metadata": {},
   "outputs": [
    {
     "data": {
      "text/plain": [
       "1"
      ]
     },
     "execution_count": 247,
     "metadata": {},
     "output_type": "execute_result"
    }
   ],
   "source": [
    "6 % 5"
   ]
  },
  {
   "cell_type": "code",
   "execution_count": 248,
   "metadata": {},
   "outputs": [
    {
     "data": {
      "text/plain": [
       "False"
      ]
     },
     "execution_count": 248,
     "metadata": {},
     "output_type": "execute_result"
    }
   ],
   "source": [
    "5 < 4 and 1 == 1"
   ]
  },
  {
   "cell_type": "code",
   "execution_count": 249,
   "metadata": {},
   "outputs": [
    {
     "data": {
      "text/plain": [
       "False"
      ]
     },
     "execution_count": 249,
     "metadata": {},
     "output_type": "execute_result"
    }
   ],
   "source": [
    "'codeup' == 'codeup' and 'codeup' == 'Codeup'"
   ]
  },
  {
   "cell_type": "code",
   "execution_count": 250,
   "metadata": {},
   "outputs": [
    {
     "ename": "SyntaxError",
     "evalue": "invalid syntax (<ipython-input-250-28fe0c9082c3>, line 1)",
     "output_type": "error",
     "traceback": [
      "\u001b[0;36m  File \u001b[0;32m\"<ipython-input-250-28fe0c9082c3>\"\u001b[0;36m, line \u001b[0;32m1\u001b[0m\n\u001b[0;31m    4 >= 0 and 1 !== '1'\u001b[0m\n\u001b[0m                   ^\u001b[0m\n\u001b[0;31mSyntaxError\u001b[0m\u001b[0;31m:\u001b[0m invalid syntax\n"
     ]
    }
   ],
   "source": [
    "4 >= 0 and 1 !== '1'"
   ]
  },
  {
   "cell_type": "code",
   "execution_count": 251,
   "metadata": {},
   "outputs": [
    {
     "data": {
      "text/plain": [
       "True"
      ]
     },
     "execution_count": 251,
     "metadata": {},
     "output_type": "execute_result"
    }
   ],
   "source": [
    "6 % 3 == 0"
   ]
  },
  {
   "cell_type": "code",
   "execution_count": 252,
   "metadata": {},
   "outputs": [
    {
     "data": {
      "text/plain": [
       "True"
      ]
     },
     "execution_count": 252,
     "metadata": {},
     "output_type": "execute_result"
    }
   ],
   "source": [
    "5 % 2 != 0"
   ]
  },
  {
   "cell_type": "code",
   "execution_count": 234,
   "metadata": {},
   "outputs": [
    {
     "ename": "TypeError",
     "evalue": "can only concatenate list (not \"int\") to list",
     "output_type": "error",
     "traceback": [
      "\u001b[0;31m---------------------------------------------------------------------------\u001b[0m",
      "\u001b[0;31mTypeError\u001b[0m                                 Traceback (most recent call last)",
      "\u001b[0;32m<ipython-input-234-54324b7054ad>\u001b[0m in \u001b[0;36m<module>\u001b[0;34m\u001b[0m\n\u001b[0;32m----> 1\u001b[0;31m \u001b[0;34m[\u001b[0m\u001b[0;36m1\u001b[0m\u001b[0;34m]\u001b[0m \u001b[0;34m+\u001b[0m \u001b[0;36m2\u001b[0m\u001b[0;34m\u001b[0m\u001b[0;34m\u001b[0m\u001b[0m\n\u001b[0m",
      "\u001b[0;31mTypeError\u001b[0m: can only concatenate list (not \"int\") to list"
     ]
    }
   ],
   "source": [
    "[1] + 2"
   ]
  },
  {
   "cell_type": "code",
   "execution_count": 253,
   "metadata": {},
   "outputs": [
    {
     "data": {
      "text/plain": [
       "[1, 2]"
      ]
     },
     "execution_count": 253,
     "metadata": {},
     "output_type": "execute_result"
    }
   ],
   "source": [
    "[1] + [2]"
   ]
  },
  {
   "cell_type": "code",
   "execution_count": 254,
   "metadata": {},
   "outputs": [
    {
     "data": {
      "text/plain": [
       "[1, 1]"
      ]
     },
     "execution_count": 254,
     "metadata": {},
     "output_type": "execute_result"
    }
   ],
   "source": [
    "[1] * 2"
   ]
  },
  {
   "cell_type": "code",
   "execution_count": 255,
   "metadata": {},
   "outputs": [
    {
     "ename": "TypeError",
     "evalue": "can't multiply sequence by non-int of type 'list'",
     "output_type": "error",
     "traceback": [
      "\u001b[0;31m---------------------------------------------------------------------------\u001b[0m",
      "\u001b[0;31mTypeError\u001b[0m                                 Traceback (most recent call last)",
      "\u001b[0;32m<ipython-input-255-887f6473eaff>\u001b[0m in \u001b[0;36m<module>\u001b[0;34m\u001b[0m\n\u001b[0;32m----> 1\u001b[0;31m \u001b[0;34m[\u001b[0m\u001b[0;36m1\u001b[0m\u001b[0;34m]\u001b[0m \u001b[0;34m*\u001b[0m \u001b[0;34m[\u001b[0m\u001b[0;36m2\u001b[0m\u001b[0;34m]\u001b[0m\u001b[0;34m\u001b[0m\u001b[0;34m\u001b[0m\u001b[0m\n\u001b[0m",
      "\u001b[0;31mTypeError\u001b[0m: can't multiply sequence by non-int of type 'list'"
     ]
    }
   ],
   "source": [
    "[1] * [2]"
   ]
  },
  {
   "cell_type": "code",
   "execution_count": 256,
   "metadata": {},
   "outputs": [
    {
     "data": {
      "text/plain": [
       "True"
      ]
     },
     "execution_count": 256,
     "metadata": {},
     "output_type": "execute_result"
    }
   ],
   "source": [
    "[] + [] == []"
   ]
  },
  {
   "cell_type": "code",
   "execution_count": 257,
   "metadata": {},
   "outputs": [
    {
     "ename": "TypeError",
     "evalue": "unsupported operand type(s) for +: 'dict' and 'dict'",
     "output_type": "error",
     "traceback": [
      "\u001b[0;31m---------------------------------------------------------------------------\u001b[0m",
      "\u001b[0;31mTypeError\u001b[0m                                 Traceback (most recent call last)",
      "\u001b[0;32m<ipython-input-257-03eea6c7a00d>\u001b[0m in \u001b[0;36m<module>\u001b[0;34m\u001b[0m\n\u001b[0;32m----> 1\u001b[0;31m \u001b[0;34m{\u001b[0m\u001b[0;34m}\u001b[0m \u001b[0;34m+\u001b[0m \u001b[0;34m{\u001b[0m\u001b[0;34m}\u001b[0m\u001b[0;34m\u001b[0m\u001b[0;34m\u001b[0m\u001b[0m\n\u001b[0m",
      "\u001b[0;31mTypeError\u001b[0m: unsupported operand type(s) for +: 'dict' and 'dict'"
     ]
    }
   ],
   "source": [
    "{} + {}"
   ]
  },
  {
   "cell_type": "markdown",
   "metadata": {},
   "source": [
    "### Write some Python code, that is, variables and operators, to describe the following scenarios. Do not worry about the real operations to get the values, the goal of these exercises is to understand how real world conditions can be represented with code."
   ]
  },
  {
   "cell_type": "code",
   "execution_count": 277,
   "metadata": {},
   "outputs": [
    {
     "data": {
      "text/plain": [
       "27"
      ]
     },
     "execution_count": 277,
     "metadata": {},
     "output_type": "execute_result"
    }
   ],
   "source": [
    "# You have rented some movies for your kids: \n",
    "# The little mermaid (for 3 days), \n",
    "# Brother Bear (for 5 days, they love it) \n",
    "# Hercules (1 day, you dont know yet if theyre going to like it). \n",
    "# If price for a movie per day is 3 dollars, how much will you have to pay?\n",
    "\n",
    "little_m_days = 3\n",
    "brother_b_days = 5\n",
    "hercules_days = 1\n",
    "\n",
    "rate = 3\n",
    "\n",
    "total_cost = (little_m_days * rate) + (brother_b_days * rate) + (hercules_days * rate)\n",
    "\n",
    "total_cost"
   ]
  },
  {
   "cell_type": "code",
   "execution_count": 278,
   "metadata": {},
   "outputs": [
    {
     "data": {
      "text/plain": [
       "7420"
      ]
     },
     "execution_count": 278,
     "metadata": {},
     "output_type": "execute_result"
    }
   ],
   "source": [
    "# Suppose youre working as a contractor for 3 companies: Google, Amazon and Facebook, they pay you a different rate per hour. \n",
    "# Google pays 400 dollars per hour, Amazon 380, and Facebook 350. How much will you receive in payment for this week? \n",
    "# You worked 10 hours for Facebook, 6 hours for Google and 4 hours for Amazon.\n",
    "\n",
    "google_pay = 400\n",
    "amazon_pay = 380\n",
    "facebook_pay = 350\n",
    "\n",
    "google_hours = 6\n",
    "amazon_hours = 4\n",
    "facebook_hours = 10\n",
    "\n",
    "total_payment = (google_pay * google_hours) + (amazon_pay * amazon_hours) + (facebook_pay * facebook_hours)\n",
    "\n",
    "total_payment"
   ]
  },
  {
   "cell_type": "code",
   "execution_count": 279,
   "metadata": {},
   "outputs": [
    {
     "data": {
      "text/plain": [
       "True"
      ]
     },
     "execution_count": 279,
     "metadata": {},
     "output_type": "execute_result"
    }
   ],
   "source": [
    "# A student can be enrolled to a class only if the class is not full and the class schedule does not conflict with her current schedule.\n",
    "\n",
    "class_has_room = True\n",
    "schedule_works = True\n",
    "\n",
    "student_can_enroll = class_has_room and schedule_works\n",
    "\n",
    "student_can_enroll"
   ]
  },
  {
   "cell_type": "code",
   "execution_count": 280,
   "metadata": {},
   "outputs": [
    {
     "data": {
      "text/plain": [
       "True"
      ]
     },
     "execution_count": 280,
     "metadata": {},
     "output_type": "execute_result"
    }
   ],
   "source": [
    "# A product offer can be applied only if people buys more than 2 items, and the offer has not expired. \n",
    "# Premium members do not need to buy a specific amount of products.\n",
    "\n",
    "buying_2_or_more_items = True\n",
    "is_member_premium = False\n",
    "is_offer_date_valid = True\n",
    "\n",
    "apply_product_offer = (buying_2_or_more_items or is_member_premium) and is_offer_date_valid\n",
    "\n",
    "apply_product_offer"
   ]
  },
  {
   "cell_type": "code",
   "execution_count": 281,
   "metadata": {},
   "outputs": [
    {
     "data": {
      "text/plain": [
       "True"
      ]
     },
     "execution_count": 281,
     "metadata": {},
     "output_type": "execute_result"
    }
   ],
   "source": [
    "# Create a variable that holds a boolean value for each of the following conditions:\n",
    "# the password must be at least 5 characters\n",
    "# the username must be no more than 20 characters\n",
    "# the password must not be the same as the username\n",
    "# bonus neither the username or password can start or end with whitespace \n",
    "\n",
    "username = 'codeup'\n",
    "password = 'notastrongpassword'\n",
    "\n",
    "pw_len = (len(password) >= 5) \n",
    "un_len= (len(username) <= 20)\n",
    "pw_and_un_are_diff = username.lower() != password.lower() \n",
    "no_empty_space_un = username[0] != \" \" and username[-1] != \" \" \n",
    "no_empty_space_pw = password[0] != \" \" and password[-1] != \" \"\n",
    "\n",
    "un_and_pw_valid = pw_len and un_len and pw_and_un_are_diff and no_empty_space_un and no_empty_space_pw\n",
    "\n",
    "un_and_pw_valid"
   ]
  },
  {
   "cell_type": "markdown",
   "metadata": {},
   "source": [
    "## 17 list comprehension problems in python"
   ]
  },
  {
   "cell_type": "code",
   "execution_count": 282,
   "metadata": {},
   "outputs": [],
   "source": [
    "fruits = ['mango', 'kiwi', 'strawberry', 'guava', 'pineapple', 'mandarin orange']\n",
    "\n",
    "numbers = [2, 3, 4, 5, 6, 7, 8, 9, 10, 11, 13, 17, 19, 23, 256, -8, -4, -2, 5, -9]"
   ]
  },
  {
   "cell_type": "code",
   "execution_count": 283,
   "metadata": {},
   "outputs": [],
   "source": [
    "# Example for loop solution to add 1 to each number in the list\n",
    "numbers_plus_one = []\n",
    "for number in numbers:\n",
    "    numbers_plus_one.append(number + 1)\n",
    "\n",
    "# Example of using a list comprehension to create a list of the numbers plus one.\n",
    "numbers_plus_one = [number + 1 for number in numbers]\n",
    "\n",
    "# Example code that creates a list of all of the list of strings in fruits and uppercases every string\n",
    "output = []\n",
    "for fruit in fruits:\n",
    "    output.append(fruit.upper())"
   ]
  },
  {
   "cell_type": "code",
   "execution_count": 284,
   "metadata": {},
   "outputs": [
    {
     "data": {
      "text/plain": [
       "['MANGO', 'KIWI', 'STRAWBERRY', 'GUAVA', 'PINEAPPLE', 'MANDARIN ORANGE']"
      ]
     },
     "execution_count": 284,
     "metadata": {},
     "output_type": "execute_result"
    }
   ],
   "source": [
    "# Exercise 1 - rewrite the above example code using list comprehension syntax. \n",
    "# Make a variable named uppercased_fruits to hold the output of the list comprehension. \n",
    "# Output should be ['MANGO', 'KIWI', etc...]\n",
    "\n",
    "uppercased_fruits = [fruit.upper() for fruit in fruits]\n",
    "\n",
    "uppercased_fruits"
   ]
  },
  {
   "cell_type": "code",
   "execution_count": 285,
   "metadata": {},
   "outputs": [
    {
     "data": {
      "text/plain": [
       "['Mango', 'Kiwi', 'Strawberry', 'Guava', 'Pineapple', 'Mandarin orange']"
      ]
     },
     "execution_count": 285,
     "metadata": {},
     "output_type": "execute_result"
    }
   ],
   "source": [
    "# Exercise 2 - create a variable named capitalized_fruits and use list comprehension syntax to produce output like ['Mango', 'Kiwi', 'Strawberry', etc...]\n",
    "\n",
    "capitalized_fruits = [fruit.capitalize() for fruit in fruits]\n",
    "\n",
    "capitalized_fruits"
   ]
  },
  {
   "cell_type": "code",
   "execution_count": 287,
   "metadata": {},
   "outputs": [
    {
     "data": {
      "text/plain": [
       "['guava', 'pineapple', 'mandarin orange']"
      ]
     },
     "execution_count": 287,
     "metadata": {},
     "output_type": "execute_result"
    }
   ],
   "source": [
    "# Exercise 3 - Use a list comprehension to make a variable named fruits_with_more_than_two_vowels. Hint: You'll need a way to check if something is a vowel.\n",
    "\n",
    "def count_vowels(v):      \n",
    "    count = 0\n",
    "    vowels = set(\"aeiouAEIOU\") \n",
    "    for eachLetter in v:\n",
    "        if eachLetter in vowels: \n",
    "            count = count + 1\n",
    "    return (count)\n",
    "\n",
    "fruits_with_more_than_two_vowels = [x for x in fruits if count_vowels(x) > 2]\n",
    "\n",
    "fruits_with_more_than_two_vowels"
   ]
  },
  {
   "cell_type": "code",
   "execution_count": 288,
   "metadata": {},
   "outputs": [
    {
     "data": {
      "text/plain": [
       "['mango', 'kiwi', 'strawberry']"
      ]
     },
     "execution_count": 288,
     "metadata": {},
     "output_type": "execute_result"
    }
   ],
   "source": [
    "# Exercise 4 - make a variable named fruits_with_only_two_vowels. The result should be ['mango', 'kiwi', 'strawberry']\n",
    "\n",
    "def count_vowels(v):      \n",
    "    count = 0\n",
    "    vowels = set(\"aeiouAEIOU\") \n",
    "    for eachLetter in v:\n",
    "        if eachLetter in vowels: \n",
    "            count = count + 1\n",
    "    return (count)\n",
    "\n",
    "fruits_with_only_two_vowels = [x for x in fruits if count_vowels(x) == 2]\n",
    "\n",
    "fruits_with_only_two_vowels"
   ]
  },
  {
   "cell_type": "code",
   "execution_count": 289,
   "metadata": {},
   "outputs": [
    {
     "data": {
      "text/plain": [
       "['strawberry', 'pineapple', 'mandarin orange']"
      ]
     },
     "execution_count": 289,
     "metadata": {},
     "output_type": "execute_result"
    }
   ],
   "source": [
    "# Exercise 5 - make a list that contains each fruit with more than 5 characters\n",
    "\n",
    "fruit_has_more_than_five_chars = [x for x in fruits if len(x) > 5]\n",
    "\n",
    "fruit_has_more_than_five_chars"
   ]
  },
  {
   "cell_type": "code",
   "execution_count": 290,
   "metadata": {},
   "outputs": [
    {
     "data": {
      "text/plain": [
       "['mango', 'guava']"
      ]
     },
     "execution_count": 290,
     "metadata": {},
     "output_type": "execute_result"
    }
   ],
   "source": [
    "# Exercise 6 - make a list that contains each fruit with exactly 5 characters\n",
    "\n",
    "fruit_has_exactly_five_chars = [x for x in fruits if len(x) == 5]\n",
    "\n",
    "fruit_has_exactly_five_chars"
   ]
  },
  {
   "cell_type": "code",
   "execution_count": 291,
   "metadata": {},
   "outputs": [
    {
     "data": {
      "text/plain": [
       "['kiwi']"
      ]
     },
     "execution_count": 291,
     "metadata": {},
     "output_type": "execute_result"
    }
   ],
   "source": [
    "# Exercise 7 - Make a list that contains fruits that have less than 5 characters\n",
    "\n",
    "fruit_has_less_than_five_chars = [x for x in fruits if len(x) < 5]\n",
    "\n",
    "fruit_has_less_than_five_chars"
   ]
  },
  {
   "cell_type": "code",
   "execution_count": 292,
   "metadata": {},
   "outputs": [
    {
     "data": {
      "text/plain": [
       "[5, 4, 10, 5, 9, 15]"
      ]
     },
     "execution_count": 292,
     "metadata": {},
     "output_type": "execute_result"
    }
   ],
   "source": [
    "# Exercise 8 - Make a list containing the number of characters in each fruit. Output would be [5, 4, 10, etc... ]\n",
    "\n",
    "characters_per_fruit = [len(x) for x in fruits]\n",
    "\n",
    "characters_per_fruit"
   ]
  },
  {
   "cell_type": "code",
   "execution_count": 293,
   "metadata": {},
   "outputs": [
    {
     "data": {
      "text/plain": [
       "['mango', 'strawberry', 'guava', 'pineapple', 'mandarin orange']"
      ]
     },
     "execution_count": 293,
     "metadata": {},
     "output_type": "execute_result"
    }
   ],
   "source": [
    "# Exercise 9 - Make a variable named fruits_with_letter_a that contains a list of only the fruits that contain the letter \"a\"\n",
    "\n",
    "fruits_with_letter_a = [x for x in fruits if 'a' in x]\n",
    "\n",
    "fruits_with_letter_a"
   ]
  },
  {
   "cell_type": "code",
   "execution_count": 294,
   "metadata": {},
   "outputs": [
    {
     "data": {
      "text/plain": [
       "[2, 4, 6, 8, 10, 256, -8, -4, -2]"
      ]
     },
     "execution_count": 294,
     "metadata": {},
     "output_type": "execute_result"
    }
   ],
   "source": [
    "# Exercise 10 - Make a variable named even_numbers that holds only the even numbers \n",
    "\n",
    "even_numbers = [x for x in numbers if x % 2 == 0]\n",
    "\n",
    "even_numbers"
   ]
  },
  {
   "cell_type": "code",
   "execution_count": 295,
   "metadata": {},
   "outputs": [
    {
     "data": {
      "text/plain": [
       "[3, 5, 7, 9, 11, 13, 17, 19, 23, 5, -9]"
      ]
     },
     "execution_count": 295,
     "metadata": {},
     "output_type": "execute_result"
    }
   ],
   "source": [
    "# Exercise 11 - Make a variable named odd_numbers that holds only the odd numbers\n",
    "\n",
    "odd_numbers = [x for x in numbers if x % 2 != 0]\n",
    "\n",
    "odd_numbers"
   ]
  },
  {
   "cell_type": "code",
   "execution_count": 296,
   "metadata": {},
   "outputs": [
    {
     "data": {
      "text/plain": [
       "[2, 3, 4, 5, 6, 7, 8, 9, 10, 11, 13, 17, 19, 23, 256, 5]"
      ]
     },
     "execution_count": 296,
     "metadata": {},
     "output_type": "execute_result"
    }
   ],
   "source": [
    "# Exercise 12 - Make a variable named positive_numbers that holds only the positive numbers\n",
    "\n",
    "positive_numbers = [x for x in numbers if x > 0]\n",
    "\n",
    "positive_numbers"
   ]
  },
  {
   "cell_type": "code",
   "execution_count": 297,
   "metadata": {},
   "outputs": [
    {
     "data": {
      "text/plain": [
       "[-8, -4, -2, -9]"
      ]
     },
     "execution_count": 297,
     "metadata": {},
     "output_type": "execute_result"
    }
   ],
   "source": [
    "# Exercise 13 - Make a variable named negative_numbers that holds only the negative numbers\n",
    "\n",
    "negative_numbers = [x for x in numbers if x < 0]\n",
    "\n",
    "negative_numbers"
   ]
  },
  {
   "cell_type": "code",
   "execution_count": 298,
   "metadata": {},
   "outputs": [
    {
     "data": {
      "text/plain": [
       "[10, 11, 13, 17, 19, 23, 256]"
      ]
     },
     "execution_count": 298,
     "metadata": {},
     "output_type": "execute_result"
    }
   ],
   "source": [
    "# Exercise 14 - use a list comprehension w/ a conditional in order to produce a list of numbers with 2 or more numerals\n",
    "\n",
    "numbers_with_two_or_more_numerals = [x for x in numbers if len(str(abs(x))) >= 2]\n",
    "\n",
    "numbers_with_two_or_more_numerals"
   ]
  },
  {
   "cell_type": "code",
   "execution_count": 306,
   "metadata": {},
   "outputs": [
    {
     "data": {
      "text/plain": [
       "[4,\n",
       " 9,\n",
       " 16,\n",
       " 25,\n",
       " 36,\n",
       " 49,\n",
       " 64,\n",
       " 81,\n",
       " 100,\n",
       " 121,\n",
       " 169,\n",
       " 289,\n",
       " 361,\n",
       " 529,\n",
       " 65536,\n",
       " 64,\n",
       " 16,\n",
       " 4,\n",
       " 25,\n",
       " 81]"
      ]
     },
     "execution_count": 306,
     "metadata": {},
     "output_type": "execute_result"
    }
   ],
   "source": [
    "# Exercise 15 - Make a variable named numbers_squared that contains the numbers list with each element squared. Output is [4, 9, 16, etc...]\n",
    "\n",
    "numbers_squared = [(x ** 2) for x in numbers]\n",
    "\n",
    "numbers_squared"
   ]
  },
  {
   "cell_type": "code",
   "execution_count": 300,
   "metadata": {},
   "outputs": [
    {
     "data": {
      "text/plain": [
       "[-9]"
      ]
     },
     "execution_count": 300,
     "metadata": {},
     "output_type": "execute_result"
    }
   ],
   "source": [
    "# Exercise 16 - Make a variable named odd_negative_numbers that contains only the numbers that are both odd and negative.\n",
    "\n",
    "odd_negative_numbers = [x for x in numbers if x < 0 and x % 2 == 1]\n",
    "\n",
    "odd_negative_numbers"
   ]
  },
  {
   "cell_type": "code",
   "execution_count": 301,
   "metadata": {},
   "outputs": [
    {
     "data": {
      "text/plain": [
       "[7, 8, 9, 10, 11, 12, 13, 14, 15, 16, 18, 22, 24, 28, 261, -3, 1, 3, 10, -4]"
      ]
     },
     "execution_count": 301,
     "metadata": {},
     "output_type": "execute_result"
    }
   ],
   "source": [
    "# Exercise 17 - Make a variable named numbers_plus_5. In it, return a list containing each number plus five. \n",
    "\n",
    "numbers_plus_5 = [(x + 5) for x in numbers]\n",
    "\n",
    "numbers_plus_5"
   ]
  },
  {
   "cell_type": "code",
   "execution_count": 305,
   "metadata": {},
   "outputs": [
    {
     "data": {
      "text/plain": [
       "[2, 3, 5, 7, 11, 13, 17, 19, 23, 5]"
      ]
     },
     "execution_count": 305,
     "metadata": {},
     "output_type": "execute_result"
    }
   ],
   "source": [
    "# BONUS Make a variable named \"primes\" that is a list containing the prime numbers in the numbers list. *Hint* you may want to make or find a helper function that determines if a given number is prime or not.\n",
    "\n",
    "def test_prime(n):\n",
    "    if (n == 1):\n",
    "        return False\n",
    "    elif (n < 0):\n",
    "        return False\n",
    "    elif (n == 2):\n",
    "        return True;\n",
    "    else:\n",
    "        for x in range(2,n):\n",
    "            if(n % x == 0):\n",
    "                return False\n",
    "        return True  \n",
    "\n",
    "primes = [x for x in numbers if test_prime(x) == True]\n",
    "\n",
    "primes"
   ]
  },
  {
   "cell_type": "markdown",
   "metadata": {},
   "source": [
    "## 20 Python Data Structure Manipulation Exercises"
   ]
  },
  {
   "cell_type": "code",
   "execution_count": 858,
   "metadata": {},
   "outputs": [],
   "source": [
    "students = [\n",
    "    {\n",
    "        \"id\": \"100001\",\n",
    "        \"student\": \"Ada Lovelace\",\n",
    "        \"coffee_preference\": \"light\",\n",
    "        \"course\": \"web development\",\n",
    "        \"grades\": [70, 91, 82, 71],\n",
    "        \"pets\": [{\"species\": \"horse\", \"age\": 8}],\n",
    "    },\n",
    "    {\n",
    "        \"id\": \"100002\",\n",
    "        \"student\": \"Thomas Bayes\",\n",
    "        \"coffee_preference\": \"medium\",\n",
    "        \"course\": \"data science\",\n",
    "        \"grades\": [75, 73, 86, 100],\n",
    "        \"pets\": [],\n",
    "    },\n",
    "    {\n",
    "        \"id\": \"100003\",\n",
    "        \"student\": \"Marie Curie\",\n",
    "        \"coffee_preference\": \"light\",\n",
    "        \"course\": \"web development\",\n",
    "        \"grades\": [70, 89, 69, 65],\n",
    "        \"pets\": [{\"species\": \"cat\", \"age\": 0}],\n",
    "    },\n",
    "    {\n",
    "        \"id\": \"100004\",\n",
    "        \"student\": \"Grace Hopper\",\n",
    "        \"coffee_preference\": \"dark\",\n",
    "        \"course\": \"data science\",\n",
    "        \"grades\": [73, 66, 83, 92],\n",
    "        \"pets\": [{\"species\": \"dog\", \"age\": 4}, {\"species\": \"cat\", \"age\": 4}],\n",
    "    },\n",
    "    {\n",
    "        \"id\": \"100005\",\n",
    "        \"student\": \"Alan Turing\",\n",
    "        \"coffee_preference\": \"dark\",\n",
    "        \"course\": \"web development\",\n",
    "        \"grades\": [78, 98, 85, 65],\n",
    "        \"pets\": [\n",
    "            {\"species\": \"horse\", \"age\": 6},\n",
    "            {\"species\": \"horse\", \"age\": 7},\n",
    "            {\"species\": \"dog\", \"age\": 5},\n",
    "        ],\n",
    "    },\n",
    "    {\n",
    "        \"id\": \"100006\",\n",
    "        \"student\": \"Rosalind Franklin\",\n",
    "        \"coffee_preference\": \"dark\",\n",
    "        \"course\": \"data science\",\n",
    "        \"grades\": [76, 70, 96, 81],\n",
    "        \"pets\": [],\n",
    "    },\n",
    "    {\n",
    "        \"id\": \"100007\",\n",
    "        \"student\": \"Elizabeth Blackwell\",\n",
    "        \"coffee_preference\": \"dark\",\n",
    "        \"course\": \"web development\",\n",
    "        \"grades\": [69, 94, 89, 86],\n",
    "        \"pets\": [{\"species\": \"cat\", \"age\": 10}],\n",
    "    },\n",
    "    {\n",
    "        \"id\": \"100008\",\n",
    "        \"student\": \"Rene Descartes\",\n",
    "        \"coffee_preference\": \"medium\",\n",
    "        \"course\": \"data science\",\n",
    "        \"grades\": [87, 79, 90, 99],\n",
    "        \"pets\": [{\"species\": \"cat\", \"age\": 10}, {\"species\": \"cat\", \"age\": 8}],\n",
    "    },\n",
    "    {\n",
    "        \"id\": \"100009\",\n",
    "        \"student\": \"Ahmed Zewail\",\n",
    "        \"coffee_preference\": \"medium\",\n",
    "        \"course\": \"data science\",\n",
    "        \"grades\": [74, 99, 93, 89],\n",
    "        \"pets\": [{\"species\": \"cat\", \"age\": 0}, {\"species\": \"cat\", \"age\": 0}],\n",
    "    },\n",
    "    {\n",
    "        \"id\": \"100010\",\n",
    "        \"student\": \"Chien-Shiung Wu\",\n",
    "        \"coffee_preference\": \"medium\",\n",
    "        \"course\": \"web development\",\n",
    "        \"grades\": [82, 92, 91, 65],\n",
    "        \"pets\": [{\"species\": \"cat\", \"age\": 8}],\n",
    "    },\n",
    "    {\n",
    "        \"id\": \"100011\",\n",
    "        \"student\": \"William Sanford Nye\",\n",
    "        \"coffee_preference\": \"dark\",\n",
    "        \"course\": \"data science\",\n",
    "        \"grades\": [70, 92, 65, 99],\n",
    "        \"pets\": [{\"species\": \"cat\", \"age\": 8}, {\"species\": \"cat\", \"age\": 5}],\n",
    "    },\n",
    "    {\n",
    "        \"id\": \"100012\",\n",
    "        \"student\": \"Carl Sagan\",\n",
    "        \"coffee_preference\": \"medium\",\n",
    "        \"course\": \"data science\",\n",
    "        \"grades\": [100, 86, 91, 87],\n",
    "        \"pets\": [{\"species\": \"cat\", \"age\": 10}],\n",
    "    },\n",
    "    {\n",
    "        \"id\": \"100013\",\n",
    "        \"student\": \"Jane Goodall\",\n",
    "        \"coffee_preference\": \"light\",\n",
    "        \"course\": \"web development\",\n",
    "        \"grades\": [80, 70, 68, 98],\n",
    "        \"pets\": [{\"species\": \"horse\", \"age\": 4}],\n",
    "    },\n",
    "    {\n",
    "        \"id\": \"100014\",\n",
    "        \"student\": \"Richard Feynman\",\n",
    "        \"coffee_preference\": \"medium\",\n",
    "        \"course\": \"web development\",\n",
    "        \"grades\": [73, 99, 86, 98],\n",
    "        \"pets\": [{\"species\": \"dog\", \"age\": 6}],\n",
    "    },\n",
    "]"
   ]
  },
  {
   "cell_type": "code",
   "execution_count": 99,
   "metadata": {},
   "outputs": [
    {
     "name": "stdout",
     "output_type": "stream",
     "text": [
      "There are 14 students.\n"
     ]
    }
   ],
   "source": [
    "# How many students are there?\n",
    "\n",
    "print(f'There are {len(students)} students.')\n"
   ]
  },
  {
   "cell_type": "code",
   "execution_count": 100,
   "metadata": {},
   "outputs": [
    {
     "name": "stdout",
     "output_type": "stream",
     "text": [
      "3 students prefer light coffee.\n"
     ]
    }
   ],
   "source": [
    "# How many students prefer light coffee? \n",
    "\n",
    "light_coffee = [student['coffee_preference'] for student in students if student['coffee_preference'] == 'light']\n",
    "\n",
    "print(f'{len(light_coffee)} students prefer light coffee.')"
   ]
  },
  {
   "cell_type": "code",
   "execution_count": 101,
   "metadata": {},
   "outputs": [
    {
     "name": "stdout",
     "output_type": "stream",
     "text": [
      "3 students prefer light coffee.\n",
      "6 students prefer light coffee.\n",
      "5 students prefer light coffee.\n"
     ]
    }
   ],
   "source": [
    "# For each type of coffee roast?\n",
    "\n",
    "light = 0\n",
    "medium = 0\n",
    "dark = 0\n",
    "\n",
    "for i in students:\n",
    "    if i['coffee_preference'] == \"light\":\n",
    "        light += 1\n",
    "    elif i['coffee_preference'] == \"medium\":\n",
    "        medium += 1\n",
    "    elif i['coffee_preference'] == \"dark\":\n",
    "        dark += 1\n",
    "        \n",
    "print(f'{light} students prefer light coffee.')\n",
    "print(f'{medium} students prefer light coffee.')\n",
    "print(f'{dark} students prefer light coffee.')"
   ]
  },
  {
   "cell_type": "code",
   "execution_count": 102,
   "metadata": {},
   "outputs": [
    {
     "name": "stdout",
     "output_type": "stream",
     "text": [
      "total number of cats: 11\n",
      "total number of dogs: 3\n",
      "total number of horses: 4\n"
     ]
    }
   ],
   "source": [
    "# How many types of each pet are there?\n",
    "\n",
    "cats = 0\n",
    "dogs = 0\n",
    "horses = 0\n",
    "\n",
    "for x in students:\n",
    "    for items in x['pets']:\n",
    "        if items['species'] == 'cat':\n",
    "            cats += 1\n",
    "        elif items['species'] == 'dog':\n",
    "            dogs += 1\n",
    "        elif items['species'] == 'horse':\n",
    "            horses += 1\n",
    "\n",
    "print(f'total number of cats: {cats}')\n",
    "print(f'total number of dogs: {dogs}')       \n",
    "print(f'total number of horses: {horses}')"
   ]
  },
  {
   "cell_type": "code",
   "execution_count": 890,
   "metadata": {},
   "outputs": [
    {
     "name": "stdout",
     "output_type": "stream",
     "text": [
      "Ada Lovelace has 4 grades\n",
      "Thomas Bayes has 4 grades\n",
      "Marie Curie has 4 grades\n",
      "Grace Hopper has 4 grades\n",
      "Alan Turing has 4 grades\n",
      "Rosalind Franklin has 4 grades\n",
      "Elizabeth Blackwell has 4 grades\n",
      "Rene Descartes has 4 grades\n",
      "Ahmed Zewail has 4 grades\n",
      "Chien-Shiung Wu has 4 grades\n",
      "William Sanford Nye has 4 grades\n",
      "Carl Sagan has 4 grades\n",
      "Jane Goodall has 4 grades\n",
      "Richard Feynman has 4 grades\n"
     ]
    }
   ],
   "source": [
    "# How many grades does each student have? \n",
    "\n",
    "for x in students:\n",
    "    print(x['student'], 'has',len(x['grades']), 'grades')"
   ]
  },
  {
   "cell_type": "code",
   "execution_count": 104,
   "metadata": {},
   "outputs": [
    {
     "name": "stdout",
     "output_type": "stream",
     "text": [
      "all of the students have the same amount of grades\n"
     ]
    }
   ],
   "source": [
    "# Do they all have the same number of grades?\n",
    "\n",
    "test = [len(x['grades']) for x in students]\n",
    "\n",
    "if len(set(test)) != 1:\n",
    "    print ('not all students have the same number of grades ')\n",
    "else:\n",
    "    print('all of the students have the same amount of grades')"
   ]
  },
  {
   "cell_type": "code",
   "execution_count": 105,
   "metadata": {},
   "outputs": [
    {
     "name": "stdout",
     "output_type": "stream",
     "text": [
      "Ada Lovelace has a grade average of 78.5\n",
      "Thomas Bayes has a grade average of 83.5\n",
      "Marie Curie has a grade average of 73.25\n",
      "Grace Hopper has a grade average of 78.5\n",
      "Alan Turing has a grade average of 81.5\n",
      "Rosalind Franklin has a grade average of 80.75\n",
      "Elizabeth Blackwell has a grade average of 84.5\n",
      "Rene Descartes has a grade average of 88.75\n",
      "Ahmed Zewail has a grade average of 88.75\n",
      "Chien-Shiung Wu has a grade average of 82.5\n",
      "William Sanford Nye has a grade average of 81.5\n",
      "Carl Sagan has a grade average of 91.0\n",
      "Jane Goodall has a grade average of 79.0\n",
      "Richard Feynman has a grade average of 89.0\n"
     ]
    }
   ],
   "source": [
    "# What is each student's grade average?\n",
    "\n",
    "for x in students:\n",
    "    print(x['student'],'has a grade average of', sum(x['grades']) / (len(x['grades'])))"
   ]
  },
  {
   "cell_type": "code",
   "execution_count": 106,
   "metadata": {
    "scrolled": true
   },
   "outputs": [
    {
     "name": "stdout",
     "output_type": "stream",
     "text": [
      "Ada Lovelace has 1 pets\n",
      "Thomas Bayes has 0 pets\n",
      "Marie Curie has 1 pets\n",
      "Grace Hopper has 2 pets\n",
      "Alan Turing has 3 pets\n",
      "Rosalind Franklin has 0 pets\n",
      "Elizabeth Blackwell has 1 pets\n",
      "Rene Descartes has 2 pets\n",
      "Ahmed Zewail has 2 pets\n",
      "Chien-Shiung Wu has 1 pets\n",
      "William Sanford Nye has 2 pets\n",
      "Carl Sagan has 1 pets\n",
      "Jane Goodall has 1 pets\n",
      "Richard Feynman has 1 pets\n"
     ]
    }
   ],
   "source": [
    "# How many pets does each student have?\n",
    "\n",
    "for x in students:\n",
    "    print (x['student'], 'has', len(x['pets']), 'pets')"
   ]
  },
  {
   "cell_type": "code",
   "execution_count": 107,
   "metadata": {},
   "outputs": [
    {
     "name": "stdout",
     "output_type": "stream",
     "text": [
      "There are 7 web development students.\n",
      "There are 7 data science  students.\n"
     ]
    }
   ],
   "source": [
    "# How many students are in web development? data science?\n",
    "\n",
    "wd = 0\n",
    "ds = 0\n",
    "\n",
    "for x in students:\n",
    "    if x['course'] == 'web development':\n",
    "        wd += 1\n",
    "    if x['course'] == 'data science':\n",
    "        ds += 1 \n",
    "\n",
    "print(f'There are {wd} web development students.')\n",
    "print(f'There are {ds} data science  students.')"
   ]
  },
  {
   "cell_type": "code",
   "execution_count": 520,
   "metadata": {},
   "outputs": [
    {
     "name": "stdout",
     "output_type": "stream",
     "text": [
      "1.29\n"
     ]
    }
   ],
   "source": [
    "# What is the average number of pets for students in web development?\n",
    "\n",
    "wd_count = 0\n",
    "pet_count = 0\n",
    "\n",
    "for x in students:\n",
    "    if x['course'] == 'web development':\n",
    "        wd_count += 1\n",
    "        for i in x['pets']:\n",
    "            pet_count += 1\n",
    "\n",
    "# len([x for q in students for x in q['pets'] if q['course'] == 'web development'])\n",
    "\n",
    "# len([x for q in students if q['course'] == 'web development'])\n",
    "\n",
    "avg_pet_count_wd = round(pet_count / wd_count, 2)\n",
    "\n",
    "print(avg_pet_count_wd)"
   ]
  },
  {
   "cell_type": "code",
   "execution_count": 518,
   "metadata": {},
   "outputs": [
    {
     "name": "stdout",
     "output_type": "stream",
     "text": [
      "5.44\n"
     ]
    }
   ],
   "source": [
    "# What is the average pet age for students in data science? \n",
    "\n",
    "\n",
    "pet_count = 0\n",
    "pet_age = 0\n",
    "\n",
    "for stud in students:\n",
    "    if stud['course'] == 'data science':\n",
    "        for pet in stud['pets']:\n",
    "            pet_age += pet['age']\n",
    "            pet_count += 1\n",
    "            \n",
    "# len([x for q in students for x in q['pets'] if q['course'] == 'web development'])\n",
    "\n",
    "avg_pet_age_ds = round(pet_age / pet_count, 2)\n",
    "\n",
    "print(avg_pet_age_ds)\n"
   ]
  },
  {
   "cell_type": "code",
   "execution_count": 904,
   "metadata": {},
   "outputs": [
    {
     "name": "stdout",
     "output_type": "stream",
     "text": [
      "medium is the most popular coffee preference with 4\n"
     ]
    }
   ],
   "source": [
    "# What is most frequent coffee preference for data science students?\n",
    "\n",
    "light = 0\n",
    "medium = 0\n",
    "dark = 0\n",
    "\n",
    "for i in students:\n",
    "    if i['course'] == 'data science':\n",
    "        if i['coffee_preference'] == \"light\":\n",
    "            light += 1\n",
    "        elif i['coffee_preference'] == \"medium\":\n",
    "            medium += 1\n",
    "        elif i['coffee_preference'] == \"dark\":\n",
    "            dark += 1\n",
    "\n",
    "cc = [{\"preference\":'light', \"votes\":light}, {\"preference\":'medium', \"votes\":medium}, {\"preference\":'dark', \"votes\":dark}]\n",
    "\n",
    "seq = max([x['votes'] for x in cc])\n",
    "\n",
    "\n",
    "for x in cc:\n",
    "    if x['votes'] == seq:\n",
    "        print(f\"{x['preference']} is the most popular coffee preference with {x['votes']}\")\n"
   ]
  },
  {
   "cell_type": "code",
   "execution_count": 762,
   "metadata": {},
   "outputs": [
    {
     "name": "stdout",
     "output_type": "stream",
     "text": [
      "medium is the least favorite coffee preference with only 2 votes\n",
      "dark is the least favorite coffee preference with only 2 votes\n"
     ]
    }
   ],
   "source": [
    "# What is the least frequent coffee preference for web development students?\n",
    "\n",
    "l = 0\n",
    "m = 0\n",
    "d = 0\n",
    "\n",
    "for x in students:\n",
    "    if x['course'] == 'web development':\n",
    "        if x['coffee_preference'] == 'light':\n",
    "            l += 1\n",
    "        elif x['coffee_preference'] == 'medium':\n",
    "            m += 1\n",
    "        elif x['coffee_preference'] == 'dark':\n",
    "            d += 1\n",
    "\n",
    "cc = [{\"preference\":'light', \"votes\":l}, {\"preference\":'medium', \"votes\":m}, {\"preference\":'dark', \"votes\":d}]\n",
    "\n",
    "\n",
    "seq = [x['votes'] for x in cc]\n",
    "\n",
    "for x in cc:\n",
    "    if x['votes'] == min(seq):\n",
    "        print(f\"{x['preference']} is the least favorite coffee preference with only {x['votes']} votes\")"
   ]
  },
  {
   "cell_type": "code",
   "execution_count": 516,
   "metadata": {},
   "outputs": [
    {
     "name": "stdout",
     "output_type": "stream",
     "text": [
      "83.8\n"
     ]
    }
   ],
   "source": [
    "# What is the average grade for students with at least 2 pets?\n",
    "\n",
    "grades_combined = 0\n",
    "number_of_grades = 0\n",
    "\n",
    "for x in students:\n",
    "    if len([i for i in x['pets']]) > 1:\n",
    "        grades_combined += sum(x['grades'])\n",
    "        number_of_grades += len([i for i in x['grades']])\n",
    "\n",
    "avg_grd_2_pets = round(grades_combined / number_of_grades, 2)\n",
    "\n",
    "print(avg_grd_2_pets)\n"
   ]
  },
  {
   "cell_type": "code",
   "execution_count": 915,
   "metadata": {},
   "outputs": [
    {
     "name": "stdout",
     "output_type": "stream",
     "text": [
      "1 student(s) has exactly three pets.\n"
     ]
    }
   ],
   "source": [
    "# How many students have 3 pets?\n",
    "\n",
    "total_students = 0\n",
    "\n",
    "for x in students:\n",
    "    if len([i for i in x['pets']]) == 3:\n",
    "        total_students += 1\n",
    "    \n",
    "print(f\"{total_students} student(s) has exactly three pets.\")\n",
    "\n",
    "#alternate answer\n",
    "# print(f\"{len([x for x in students if len(x['pets']) == 3])} student(s) have 3 exactly 3 pets \")"
   ]
  },
  {
   "cell_type": "code",
   "execution_count": 515,
   "metadata": {},
   "outputs": [
    {
     "name": "stdout",
     "output_type": "stream",
     "text": [
      "82.12\n"
     ]
    }
   ],
   "source": [
    "# What is the average grade for students with 0 pets?\n",
    "\n",
    "grades_combined = 0\n",
    "number_of_grades = 0\n",
    "\n",
    "for x in students:\n",
    "    if len([i for i in x['pets']]) == 0:\n",
    "        grades_combined += sum(x['grades'])\n",
    "        number_of_grades += len([i for i in x['grades']])\n",
    "\n",
    "avg_grade_no_pets = round(grades_combined / number_of_grades , 2)\n",
    "\n",
    "print(avg_grade_no_pets)\n",
    "        \n",
    "        "
   ]
  },
  {
   "cell_type": "code",
   "execution_count": 530,
   "metadata": {},
   "outputs": [
    {
     "name": "stdout",
     "output_type": "stream",
     "text": [
      "81.18\n"
     ]
    }
   ],
   "source": [
    "# What is the average grade for web development students? \n",
    "\n",
    "combined_grades = 0\n",
    "number_of_grades = 0\n",
    "\n",
    "for x in students:\n",
    "    if x['course'] == 'web development':\n",
    "        combined_grades += sum(x['grades'])\n",
    "        number_of_grades += len([i for i in x['grades']])\n",
    "\n",
    "avg_grade_wd = round(combined_grades / number_of_grades , 2)\n",
    "\n",
    "print(avg_grade_wd)"
   ]
  },
  {
   "cell_type": "code",
   "execution_count": 531,
   "metadata": {},
   "outputs": [
    {
     "name": "stdout",
     "output_type": "stream",
     "text": [
      "84.68\n"
     ]
    }
   ],
   "source": [
    "# What is the average grade for data science students?\n",
    "\n",
    "combined_grades = 0\n",
    "number_of_grades = 0\n",
    "\n",
    "for x in students:\n",
    "    if x['course'] == 'data science':\n",
    "        combined_grades += sum(x['grades'])\n",
    "        number_of_grades += len([i for i in x['grades']])\n",
    "\n",
    "avg_grade_wd = round(combined_grades / number_of_grades , 2)\n",
    "\n",
    "print(avg_grade_wd)"
   ]
  },
  {
   "cell_type": "code",
   "execution_count": 763,
   "metadata": {},
   "outputs": [
    {
     "name": "stdout",
     "output_type": "stream",
     "text": [
      "[(84.5, 'Elizabeth Blackwell'), (81.5, 'William Sanford Nye'), (81.5, 'Alan Turing'), (80.75, 'Rosalind Franklin'), (78.5, 'Grace Hopper')]\n"
     ]
    }
   ],
   "source": [
    "# What is the average grade range (i.e. highest grade - lowest grade) for dark coffee drinkers?\n",
    "\n",
    "coll = []\n",
    "\n",
    "for x in students:\n",
    "    if x['coffee_preference'] == 'dark':\n",
    "        coll.append((( sum(x['grades']) / (len([x for x in x['grades']])), x['student'])))\n",
    "\n",
    "coll.sort(reverse = True)\n",
    "print(coll)\n",
    "\n",
    "        "
   ]
  },
  {
   "cell_type": "code",
   "execution_count": 643,
   "metadata": {},
   "outputs": [
    {
     "name": "stdout",
     "output_type": "stream",
     "text": [
      "1.17\n"
     ]
    }
   ],
   "source": [
    "# What is the average number of pets for medium coffee drinkers?\n",
    "\n",
    "pet_count = 0\n",
    "student_count = 0\n",
    "\n",
    "for x in students:\n",
    "    if x['coffee_preference'] == 'medium':\n",
    "        pet_count += len([i for i in x['pets']])\n",
    "        student_count += 1\n",
    "        \n",
    "avg_pet_count = round(pet_count / student_count , 2)\n",
    "\n",
    "print(avg_pet_count)\n",
    "        \n",
    "        "
   ]
  },
  {
   "cell_type": "code",
   "execution_count": 815,
   "metadata": {},
   "outputs": [
    {
     "name": "stdout",
     "output_type": "stream",
     "text": [
      "4 horses are owned among all WD students, making them the most common pet type.\n"
     ]
    }
   ],
   "source": [
    "# What is the most common type of pet for web development students?\n",
    "\n",
    "horses = 0\n",
    "cats = 0\n",
    "dogs = 0\n",
    "\n",
    "for x in students:\n",
    "    if x['course'] == 'web development':\n",
    "        for i in x['pets']:\n",
    "            if (i['species']) == 'horse':\n",
    "                horses += 1\n",
    "            if (i['species']) == 'cat':\n",
    "                cats += 1\n",
    "            if (i['species']) == 'dog':\n",
    "                dogs += 1\n",
    "\n",
    "animals=[{'pet':'horses', 'amount':horses}, {'pet':'cats', 'amount':cats}, {'pet':'dogs', 'amount':dogs}]\n",
    "\n",
    "seq = max([x['amount'] for x in animals])\n",
    "\n",
    "for x in animals:\n",
    "    if x['amount'] == seq:\n",
    "        print(f\"{x['amount']} {x['pet']} are owned among all WD students, making them the most common pet type.\")"
   ]
  },
  {
   "cell_type": "code",
   "execution_count": 677,
   "metadata": {},
   "outputs": [
    {
     "name": "stdout",
     "output_type": "stream",
     "text": [
      "13.64\n"
     ]
    }
   ],
   "source": [
    "# What is the average name length?\n",
    "\n",
    "name_lengths_total = 0\n",
    "total_students = 0\n",
    "\n",
    "for x in students:\n",
    "    name_lengths_total += len(x['student'])\n",
    "    total_students += 1\n",
    "    \n",
    "avg_name_length = round(name_lengths_total / total_students, 2)\n",
    "\n",
    "print(avg_name_length)\n"
   ]
  },
  {
   "cell_type": "code",
   "execution_count": 873,
   "metadata": {},
   "outputs": [
    {
     "name": "stdout",
     "output_type": "stream",
     "text": [
      "[(8, 'horse')]\n"
     ]
    }
   ],
   "source": [
    "# What is the highest pet age for light coffee drinkers?\n",
    "\n",
    "oldest_pets = []\n",
    "\n",
    "ra = 0\n",
    "\n",
    "for x in students:\n",
    "    if x['coffee_preference'] == 'light':\n",
    "        for i in x['pets']:\n",
    "            if i['age'] >= ra:\n",
    "                ra = i['age']\n",
    "                oldest_pets.append((i['age'], i['species']))\n",
    "        \n",
    "print(oldest_pets)\n",
    "\n"
   ]
  },
  {
   "cell_type": "code",
   "execution_count": null,
   "metadata": {},
   "outputs": [],
   "source": []
  },
  {
   "cell_type": "code",
   "execution_count": null,
   "metadata": {},
   "outputs": [],
   "source": [
    "\n"
   ]
  },
  {
   "cell_type": "code",
   "execution_count": null,
   "metadata": {},
   "outputs": [],
   "source": []
  },
  {
   "cell_type": "code",
   "execution_count": null,
   "metadata": {},
   "outputs": [],
   "source": []
  }
 ],
 "metadata": {
  "kernelspec": {
   "display_name": "Python 3",
   "language": "python",
   "name": "python3"
  },
  "language_info": {
   "codemirror_mode": {
    "name": "ipython",
    "version": 3
   },
   "file_extension": ".py",
   "mimetype": "text/x-python",
   "name": "python",
   "nbconvert_exporter": "python",
   "pygments_lexer": "ipython3",
   "version": "3.7.6"
  }
 },
 "nbformat": 4,
 "nbformat_minor": 4
}
